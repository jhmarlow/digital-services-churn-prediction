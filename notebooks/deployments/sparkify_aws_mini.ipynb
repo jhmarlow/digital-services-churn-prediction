{
 "cells": [
  {
   "cell_type": "markdown",
   "metadata": {},
   "source": [
    "# Sparkify AWS Deployment Notebook"
   ]
  },
  {
   "cell_type": "markdown",
   "metadata": {},
   "source": [
    "Notebook to build optimised ML alogrithm to predict user churn in digital music services"
   ]
  },
  {
   "cell_type": "markdown",
   "metadata": {},
   "source": [
    "## Setup"
   ]
  },
  {
   "cell_type": "code",
   "execution_count": 1,
   "metadata": {},
   "outputs": [
    {
     "data": {
      "application/vnd.jupyter.widget-view+json": {
       "model_id": "01e17dc317e34a8385b5bd1cd393b99f",
       "version_major": 2,
       "version_minor": 0
      },
      "text/plain": [
       "VBox()"
      ]
     },
     "metadata": {},
     "output_type": "display_data"
    },
    {
     "name": "stdout",
     "output_type": "stream",
     "text": [
      "Starting Spark application\n"
     ]
    },
    {
     "data": {
      "text/html": [
       "<table>\n",
       "<tr><th>ID</th><th>YARN Application ID</th><th>Kind</th><th>State</th><th>Spark UI</th><th>Driver log</th><th>Current session?</th></tr><tr><td>0</td><td>application_1598622065746_0001</td><td>pyspark</td><td>idle</td><td><a target=\"_blank\" href=\"http://ip-172-31-45-39.us-east-2.compute.internal:20888/proxy/application_1598622065746_0001/\">Link</a></td><td><a target=\"_blank\" href=\"http://ip-172-31-47-178.us-east-2.compute.internal:8042/node/containerlogs/container_1598622065746_0001_01_000001/livy\">Link</a></td><td>✔</td></tr></table>"
      ],
      "text/plain": [
       "<IPython.core.display.HTML object>"
      ]
     },
     "metadata": {},
     "output_type": "display_data"
    },
    {
     "data": {
      "application/vnd.jupyter.widget-view+json": {
       "model_id": "",
       "version_major": 2,
       "version_minor": 0
      },
      "text/plain": [
       "FloatProgress(value=0.0, bar_style='info', description='Progress:', layout=Layout(height='25px', width='50%'),…"
      ]
     },
     "metadata": {},
     "output_type": "display_data"
    },
    {
     "name": "stdout",
     "output_type": "stream",
     "text": [
      "SparkSession available as 'spark'.\n"
     ]
    },
    {
     "data": {
      "application/vnd.jupyter.widget-view+json": {
       "model_id": "",
       "version_major": 2,
       "version_minor": 0
      },
      "text/plain": [
       "FloatProgress(value=0.0, bar_style='info', description='Progress:', layout=Layout(height='25px', width='50%'),…"
      ]
     },
     "metadata": {},
     "output_type": "display_data"
    }
   ],
   "source": [
    "# imports\n",
    "# pyspark sql\n",
    "from pyspark.sql import SparkSession, Window, functions as F\n",
    "from pyspark.sql.functions import from_unixtime, udf, col, when, isnan, desc\n",
    "from pyspark.sql.functions import sum as Fsum\n",
    "from pyspark.sql.types import IntegerType, StringType\n",
    "from pyspark.sql.functions import isnan, when, count, col\n",
    "from pyspark.sql.functions import countDistinct\n",
    "from pyspark.sql.functions import min, max\n",
    "from pyspark.sql.types import DoubleType\n",
    "\n",
    "# pyspark ml\n",
    "from pyspark.ml.feature import VectorAssembler, Normalizer, StringIndexer, OneHotEncoder\n",
    "from pyspark.ml.classification import LogisticRegression, RandomForestClassifier, GBTClassifier\n",
    "from pyspark.ml.pipeline import Pipeline\n",
    "from pyspark.ml.tuning import CrossValidator, ParamGridBuilder\n",
    "#from pyspark.ml import Pipeline\n",
    "from pyspark.ml.evaluation import BinaryClassificationEvaluator, MulticlassClassificationEvaluator"
   ]
  },
  {
   "cell_type": "code",
   "execution_count": 2,
   "metadata": {},
   "outputs": [
    {
     "data": {
      "application/vnd.jupyter.widget-view+json": {
       "model_id": "0e6b089dfaac416c8fc869241a832c7b",
       "version_major": 2,
       "version_minor": 0
      },
      "text/plain": [
       "VBox()"
      ]
     },
     "metadata": {},
     "output_type": "display_data"
    },
    {
     "data": {
      "application/vnd.jupyter.widget-view+json": {
       "model_id": "",
       "version_major": 2,
       "version_minor": 0
      },
      "text/plain": [
       "FloatProgress(value=0.0, bar_style='info', description='Progress:', layout=Layout(height='25px', width='50%'),…"
      ]
     },
     "metadata": {},
     "output_type": "display_data"
    }
   ],
   "source": [
    "# Starter code\n",
    "from pyspark.sql import SparkSession\n",
    "\n",
    "# Create spark session\n",
    "spark = SparkSession \\\n",
    "    .builder \\\n",
    "    .appName(\"Sparkify\") \\\n",
    "    .getOrCreate()"
   ]
  },
  {
   "cell_type": "code",
   "execution_count": 3,
   "metadata": {},
   "outputs": [
    {
     "data": {
      "application/vnd.jupyter.widget-view+json": {
       "model_id": "e8f8176aafd44d858c06a9599d4241d5",
       "version_major": 2,
       "version_minor": 0
      },
      "text/plain": [
       "VBox()"
      ]
     },
     "metadata": {},
     "output_type": "display_data"
    },
    {
     "data": {
      "application/vnd.jupyter.widget-view+json": {
       "model_id": "",
       "version_major": 2,
       "version_minor": 0
      },
      "text/plain": [
       "FloatProgress(value=0.0, bar_style='info', description='Progress:', layout=Layout(height='25px', width='50%'),…"
      ]
     },
     "metadata": {},
     "output_type": "display_data"
    }
   ],
   "source": [
    "# python imports\n",
    "import datetime\n",
    "\n",
    "from typing import NewType\n",
    "pysparkdf = NewType('pysparkdf', object)"
   ]
  },
  {
   "cell_type": "code",
   "execution_count": 4,
   "metadata": {},
   "outputs": [
    {
     "data": {
      "application/vnd.jupyter.widget-view+json": {
       "model_id": "94def93959bc4c289e2caac53b93d5c7",
       "version_major": 2,
       "version_minor": 0
      },
      "text/plain": [
       "VBox()"
      ]
     },
     "metadata": {},
     "output_type": "display_data"
    },
    {
     "data": {
      "application/vnd.jupyter.widget-view+json": {
       "model_id": "",
       "version_major": 2,
       "version_minor": 0
      },
      "text/plain": [
       "FloatProgress(value=0.0, bar_style='info', description='Progress:', layout=Layout(height='25px', width='50%'),…"
      ]
     },
     "metadata": {},
     "output_type": "display_data"
    },
    {
     "name": "stdout",
     "output_type": "stream",
     "text": [
      "Row(artist='Martha Tilston', auth='Logged In', firstName='Colin', gender='M', itemInSession=50, lastName='Freeman', length=277.89016, level='paid', location='Bakersfield, CA', method='PUT', page='NextSong', registration=1538173362000, sessionId=29, song='Rockpools', status=200, ts=1538352117000, userAgent='Mozilla/5.0 (Windows NT 6.1; WOW64; rv:31.0) Gecko/20100101 Firefox/31.0', userId='30')"
     ]
    }
   ],
   "source": [
    "# Read in full sparkify dataset\n",
    "#event_data = \"s3n://udacity-dsnd/sparkify/mini_event_data.json\"\n",
    "event_data = \"s3n://udacity-dsnd/sparkify/mini_sparkify_event_data.json\"\n",
    "df = spark.read.json(event_data)\n",
    "df.head()"
   ]
  },
  {
   "cell_type": "code",
   "execution_count": 5,
   "metadata": {},
   "outputs": [
    {
     "data": {
      "application/vnd.jupyter.widget-view+json": {
       "model_id": "9e1f58d4462045919a3f842aa03aa10c",
       "version_major": 2,
       "version_minor": 0
      },
      "text/plain": [
       "VBox()"
      ]
     },
     "metadata": {},
     "output_type": "display_data"
    },
    {
     "data": {
      "application/vnd.jupyter.widget-view+json": {
       "model_id": "",
       "version_major": 2,
       "version_minor": 0
      },
      "text/plain": [
       "FloatProgress(value=0.0, bar_style='info', description='Progress:', layout=Layout(height='25px', width='50%'),…"
      ]
     },
     "metadata": {},
     "output_type": "display_data"
    },
    {
     "name": "stdout",
     "output_type": "stream",
     "text": [
      "Started Spark version 2.4.5-amzn-0"
     ]
    }
   ],
   "source": [
    "print(\"Started Spark version {}\".format(spark.version))"
   ]
  },
  {
   "cell_type": "markdown",
   "metadata": {},
   "source": [
    "## Exploratory Data Analysis"
   ]
  },
  {
   "cell_type": "code",
   "execution_count": 6,
   "metadata": {},
   "outputs": [
    {
     "data": {
      "application/vnd.jupyter.widget-view+json": {
       "model_id": "ad23643e75c449de9a8ff7612fcca497",
       "version_major": 2,
       "version_minor": 0
      },
      "text/plain": [
       "VBox()"
      ]
     },
     "metadata": {},
     "output_type": "display_data"
    },
    {
     "data": {
      "application/vnd.jupyter.widget-view+json": {
       "model_id": "",
       "version_major": 2,
       "version_minor": 0
      },
      "text/plain": [
       "FloatProgress(value=0.0, bar_style='info', description='Progress:', layout=Layout(height='25px', width='50%'),…"
      ]
     },
     "metadata": {},
     "output_type": "display_data"
    },
    {
     "name": "stdout",
     "output_type": "stream",
     "text": [
      "Row 1:\n",
      "Row(artist='Martha Tilston', auth='Logged In', firstName='Colin', gender='M', itemInSession=50, lastName='Freeman', length=277.89016, level='paid', location='Bakersfield, CA', method='PUT', page='NextSong', registration=1538173362000, sessionId=29, song='Rockpools', status=200, ts=1538352117000, userAgent='Mozilla/5.0 (Windows NT 6.1; WOW64; rv:31.0) Gecko/20100101 Firefox/31.0', userId='30')"
     ]
    }
   ],
   "source": [
    "print(\"Row 1:\")\n",
    "data_df = df\n",
    "data_df.limit(2).head()\n"
   ]
  },
  {
   "cell_type": "code",
   "execution_count": 7,
   "metadata": {},
   "outputs": [
    {
     "data": {
      "application/vnd.jupyter.widget-view+json": {
       "model_id": "654f3c0dcaa24bbaa171d3bce0b67a86",
       "version_major": 2,
       "version_minor": 0
      },
      "text/plain": [
       "VBox()"
      ]
     },
     "metadata": {},
     "output_type": "display_data"
    },
    {
     "data": {
      "application/vnd.jupyter.widget-view+json": {
       "model_id": "",
       "version_major": 2,
       "version_minor": 0
      },
      "text/plain": [
       "FloatProgress(value=0.0, bar_style='info', description='Progress:', layout=Layout(height='25px', width='50%'),…"
      ]
     },
     "metadata": {},
     "output_type": "display_data"
    },
    {
     "name": "stdout",
     "output_type": "stream",
     "text": [
      "Number of users:\n",
      "[Row(count(DISTINCT userId)=226)]"
     ]
    }
   ],
   "source": [
    "# count users\n",
    "print(\"Number of users:\")\n",
    "data_df.agg(countDistinct(\"userId\")).collect()"
   ]
  },
  {
   "cell_type": "code",
   "execution_count": 8,
   "metadata": {},
   "outputs": [
    {
     "data": {
      "application/vnd.jupyter.widget-view+json": {
       "model_id": "b9d1d67c94d747179f4bbe0c01c6018b",
       "version_major": 2,
       "version_minor": 0
      },
      "text/plain": [
       "VBox()"
      ]
     },
     "metadata": {},
     "output_type": "display_data"
    },
    {
     "data": {
      "application/vnd.jupyter.widget-view+json": {
       "model_id": "",
       "version_major": 2,
       "version_minor": 0
      },
      "text/plain": [
       "FloatProgress(value=0.0, bar_style='info', description='Progress:', layout=Layout(height='25px', width='50%'),…"
      ]
     },
     "metadata": {},
     "output_type": "display_data"
    },
    {
     "name": "stdout",
     "output_type": "stream",
     "text": [
      "Number of log events:\n",
      "(286500, 18)"
     ]
    }
   ],
   "source": [
    "# count events\n",
    "print(\"Number of log events:\")\n",
    "print((data_df.count(), len(data_df.columns)))"
   ]
  },
  {
   "cell_type": "code",
   "execution_count": 9,
   "metadata": {},
   "outputs": [
    {
     "data": {
      "application/vnd.jupyter.widget-view+json": {
       "model_id": "d091e2a6b21e4214858c457fc9add951",
       "version_major": 2,
       "version_minor": 0
      },
      "text/plain": [
       "VBox()"
      ]
     },
     "metadata": {},
     "output_type": "display_data"
    },
    {
     "data": {
      "application/vnd.jupyter.widget-view+json": {
       "model_id": "",
       "version_major": 2,
       "version_minor": 0
      },
      "text/plain": [
       "FloatProgress(value=0.0, bar_style='info', description='Progress:', layout=Layout(height='25px', width='50%'),…"
      ]
     },
     "metadata": {},
     "output_type": "display_data"
    },
    {
     "name": "stdout",
     "output_type": "stream",
     "text": [
      "start and end unix time:\n",
      "Row(min(ts)=1538352117000, max(ts)=1543799476000)"
     ]
    }
   ],
   "source": [
    "print(\"start and end unix time:\")\n",
    "data_df.select(min(\"ts\"), max(\"ts\")).first()"
   ]
  },
  {
   "cell_type": "markdown",
   "metadata": {},
   "source": [
    "## Data Wrangling"
   ]
  },
  {
   "cell_type": "code",
   "execution_count": 10,
   "metadata": {},
   "outputs": [
    {
     "data": {
      "application/vnd.jupyter.widget-view+json": {
       "model_id": "89504bdde98f4354b58d3a2e37acec3c",
       "version_major": 2,
       "version_minor": 0
      },
      "text/plain": [
       "VBox()"
      ]
     },
     "metadata": {},
     "output_type": "display_data"
    },
    {
     "data": {
      "application/vnd.jupyter.widget-view+json": {
       "model_id": "",
       "version_major": 2,
       "version_minor": 0
      },
      "text/plain": [
       "FloatProgress(value=0.0, bar_style='info', description='Progress:', layout=Layout(height='25px', width='50%'),…"
      ]
     },
     "metadata": {},
     "output_type": "display_data"
    }
   ],
   "source": [
    "def clean_df(data_df):\n",
    "    \"\"\"Remove non useful columns and drop missing values for user and session.\n",
    "    \"\"\"\n",
    "    # lets remove some of the columns we don't think will be useful from data exploration\n",
    "    cols_to_drop = ['firstName', 'lastName','artist', 'song', 'method', 'status', 'userAgent']\n",
    "    user_log_df = data_df.drop(*cols_to_drop)\n",
    "    \n",
    "    # drop rows with missing info\n",
    "    return user_log_df.dropna(how = \"any\", subset = [\"userId\", \"sessionId\"])\n",
    "\n",
    "def unix_to_datetime(data_df):\n",
    "    \"\"\" onvert unix timestamps to datetime.\n",
    "    \"\"\"\n",
    "    # event unix to datetime\n",
    "    data_df = data_df.withColumn(\"timestampDatetime\",\n",
    "                                         from_unixtime(user_log_valid.ts/1000,\n",
    "                                                       format='yyyy-MM-dd HH:mm:ss'))\n",
    "    # registration unix to datetime\n",
    "    data_df = data_df.withColumn(\"registrationDatetime\",\n",
    "                                         from_unixtime(user_log_valid.registration/1000,\n",
    "                                                       format='yyyy-MM-dd HH:mm:ss'))\n",
    "    return data_df\n",
    "\n",
    "def create_us_states(data_df):\n",
    "    \"\"\"Create US states column from location.\n",
    "    \"\"\"\n",
    "    # we don't really want to drop these rows as the col isn't vital \n",
    "    # so replace missing values to allow split\n",
    "    data_df = data_df.fillna({'location':'unknown'})\n",
    "\n",
    "    # define UDFs\n",
    "    # create state column\n",
    "    loc_split = udf(lambda x: x.split(', ')[-1], StringType())\n",
    "\n",
    "    # Sates seem to be appended, so take latest\n",
    "    state_split = udf(lambda x: x.split('-')[-1], StringType())\n",
    "\n",
    "    # apply UDFs\n",
    "    data_df = data_df.withColumn(\"usStateAbbr\",\n",
    "                                 when(data_df.location.isNotNull(),\n",
    "                                      loc_split(data_df.location)).otherwise(''))\n",
    "    data_df = data_df.withColumn(\"usStateAbbr\",\n",
    "                                 when(data_df.usStateAbbr.isNotNull(),\n",
    "                                      state_split(data_df.usStateAbbr)).otherwise(''))\n",
    "    return data_df\n",
    "\n",
    "def replace_missing_gender(data_df):\n",
    "    \"\"\"Replace missing gender with 'unknown'.\n",
    "    \"\"\"\n",
    "    return data_df.fillna({'gender':'unknown'})"
   ]
  },
  {
   "cell_type": "code",
   "execution_count": 11,
   "metadata": {},
   "outputs": [
    {
     "data": {
      "application/vnd.jupyter.widget-view+json": {
       "model_id": "b45f82fdc0644719ad96c8294f9e28c6",
       "version_major": 2,
       "version_minor": 0
      },
      "text/plain": [
       "VBox()"
      ]
     },
     "metadata": {},
     "output_type": "display_data"
    },
    {
     "data": {
      "application/vnd.jupyter.widget-view+json": {
       "model_id": "",
       "version_major": 2,
       "version_minor": 0
      },
      "text/plain": [
       "FloatProgress(value=0.0, bar_style='info', description='Progress:', layout=Layout(height='25px', width='50%'),…"
      ]
     },
     "metadata": {},
     "output_type": "display_data"
    }
   ],
   "source": [
    "user_log_valid = clean_df(data_df)\n",
    "user_log_valid = unix_to_datetime(user_log_valid)\n",
    "user_log_valid = create_us_states(user_log_valid)\n",
    "user_log_valid = replace_missing_gender(user_log_valid)"
   ]
  },
  {
   "cell_type": "code",
   "execution_count": 12,
   "metadata": {},
   "outputs": [
    {
     "data": {
      "application/vnd.jupyter.widget-view+json": {
       "model_id": "7aa42b552fbc40bca32f26e38be56729",
       "version_major": 2,
       "version_minor": 0
      },
      "text/plain": [
       "VBox()"
      ]
     },
     "metadata": {},
     "output_type": "display_data"
    },
    {
     "data": {
      "application/vnd.jupyter.widget-view+json": {
       "model_id": "",
       "version_major": 2,
       "version_minor": 0
      },
      "text/plain": [
       "FloatProgress(value=0.0, bar_style='info', description='Progress:', layout=Layout(height='25px', width='50%'),…"
      ]
     },
     "metadata": {},
     "output_type": "display_data"
    }
   ],
   "source": [
    "wrangled_data = user_log_valid.withColumnRenamed(\"auth\", \"authLevel\").\\\n",
    "                               withColumnRenamed(\"length\", \"sessionLength_s\").\\\n",
    "                               withColumnRenamed(\"level\", \"subLevel\").\\\n",
    "                               withColumnRenamed(\"ts\", \"unixEventTS\").\\\n",
    "                               withColumnRenamed(\"registration\", \"unixRegistrationTS\")"
   ]
  },
  {
   "cell_type": "markdown",
   "metadata": {},
   "source": [
    "## Feature Engineering"
   ]
  },
  {
   "cell_type": "code",
   "execution_count": 13,
   "metadata": {},
   "outputs": [
    {
     "data": {
      "application/vnd.jupyter.widget-view+json": {
       "model_id": "1f98de5e62ad4fce84596601122c5dd1",
       "version_major": 2,
       "version_minor": 0
      },
      "text/plain": [
       "VBox()"
      ]
     },
     "metadata": {},
     "output_type": "display_data"
    },
    {
     "data": {
      "application/vnd.jupyter.widget-view+json": {
       "model_id": "",
       "version_major": 2,
       "version_minor": 0
      },
      "text/plain": [
       "FloatProgress(value=0.0, bar_style='info', description='Progress:', layout=Layout(height='25px', width='50%'),…"
      ]
     },
     "metadata": {},
     "output_type": "display_data"
    }
   ],
   "source": [
    "def create_phase_feature(data_df: pysparkdf) -> pysparkdf:\n",
    "    \"\"\"Use the cancellation to identify churned users.\n",
    "    \"\"\"\n",
    "    # flag any cancellation confirmation events in pages\n",
    "    flag_cancellation_event = udf(lambda x: 1 if x == \"Cancellation Confirmation\" else 0, IntegerType())\n",
    "    data_df = data_df.withColumn(\"churn\", flag_cancellation_event(\"page\"))\n",
    "\n",
    "    # search for flags and fill user rows as churned\n",
    "    windowval = Window.partitionBy(\"userId\").orderBy(desc(\"unixEventTS\")).rangeBetween(Window.unboundedPreceding, 0)\n",
    "    return data_df.withColumn(\"label\", Fsum(\"churn\").over(windowval))\n",
    "\n",
    "def avg_items_in_session(data_df: pysparkdf)-> pysparkdf:\n",
    "    \"\"\"Calculate avg items in session for each user.\n",
    "    \"\"\"\n",
    "    # calculate metric and join dfs back together\n",
    "    return data_df.join(data_df.groupBy('userId').avg('itemInSession'),\n",
    "                               on='userId')\n",
    "\n",
    "def avg_user_listening_time(data_df: pysparkdf) -> pysparkdf:\n",
    "    \"\"\"Calculate average listening time.\n",
    "    \"\"\"\n",
    "    return data_df.join(data_df.groupBy('userId').avg('sessionLength_s'),\n",
    "                               on='userId')\n",
    "\n",
    "def recommendation_performance_good(data_df: pysparkdf) -> pysparkdf:\n",
    "    \"\"\"Number of positive recommendation events.\n",
    "    \"\"\"\n",
    "    # flag events\n",
    "    data_df = data_df.withColumn(\"recc_performance_good_events\",\n",
    "                                 when((data_df[\"page\"] == 'Add to Playlist') |\\\n",
    "                                      (data_df[\"page\"] == 'Add Friend') |\\\n",
    "                                      (data_df[\"page\"] == 'Thumbs Up'),\n",
    "                                       1).otherwise(0))\n",
    "    # calculate number\n",
    "    return data_df.join(data_df.groupBy('userId').sum('recc_performance_good_events'),\n",
    "                               on='userId')\n",
    "\n",
    "def recommendation_performance_bad(data_df: pysparkdf) -> pysparkdf:\n",
    "    \"\"\"Number of bad recommendation events.\n",
    "    \"\"\"\n",
    "    # flag events\n",
    "    data_df = data_df.withColumn(\"recc_performance_bad_events\",\n",
    "                                 when((data_df[\"page\"] == 'Thumbs Down'),\n",
    "                                       1).otherwise(0))\n",
    "    # calculate number\n",
    "    return data_df.join(data_df.groupBy('userId').sum('recc_performance_bad_events'),\n",
    "                               on='userId')\n",
    "\n",
    "def system_performance_bad(data_df: pysparkdf) -> pysparkdf:\n",
    "    \"\"\"Number of bad system events.\n",
    "    \"\"\"\n",
    "    # flag events\n",
    "    data_df = data_df.withColumn(\"sys_performance_bad\",\n",
    "                                 when((data_df[\"page\"] == 'Help') |\\\n",
    "                                      (data_df[\"page\"] == 'Upgrade') |\\\n",
    "                                      (data_df[\"page\"] == 'Error'),\n",
    "                                       1).otherwise(0))\n",
    "    # calculate number                                \n",
    "    return data_df.join(data_df.groupBy('userId').sum('sys_performance_bad'),\n",
    "                               on='userId')"
   ]
  },
  {
   "cell_type": "code",
   "execution_count": 14,
   "metadata": {},
   "outputs": [
    {
     "data": {
      "application/vnd.jupyter.widget-view+json": {
       "model_id": "bf927b1126184f09ad3f5922b1fc3615",
       "version_major": 2,
       "version_minor": 0
      },
      "text/plain": [
       "VBox()"
      ]
     },
     "metadata": {},
     "output_type": "display_data"
    },
    {
     "data": {
      "application/vnd.jupyter.widget-view+json": {
       "model_id": "",
       "version_major": 2,
       "version_minor": 0
      },
      "text/plain": [
       "FloatProgress(value=0.0, bar_style='info', description='Progress:', layout=Layout(height='25px', width='50%'),…"
      ]
     },
     "metadata": {},
     "output_type": "display_data"
    }
   ],
   "source": [
    "# create features\n",
    "wrangled_data = create_phase_feature(wrangled_data)\n",
    "wrangled_data = avg_items_in_session(wrangled_data)\n",
    "wrangled_data = avg_user_listening_time(wrangled_data)\n",
    "wrangled_data = recommendation_performance_good(wrangled_data)\n",
    "wrangled_data = recommendation_performance_bad(wrangled_data)\n",
    "wrangled_data = system_performance_bad(wrangled_data)"
   ]
  },
  {
   "cell_type": "code",
   "execution_count": 15,
   "metadata": {},
   "outputs": [
    {
     "data": {
      "application/vnd.jupyter.widget-view+json": {
       "model_id": "716b768632704e45beb947fbc499323b",
       "version_major": 2,
       "version_minor": 0
      },
      "text/plain": [
       "VBox()"
      ]
     },
     "metadata": {},
     "output_type": "display_data"
    },
    {
     "data": {
      "application/vnd.jupyter.widget-view+json": {
       "model_id": "",
       "version_major": 2,
       "version_minor": 0
      },
      "text/plain": [
       "FloatProgress(value=0.0, bar_style='info', description='Progress:', layout=Layout(height='25px', width='50%'),…"
      ]
     },
     "metadata": {},
     "output_type": "display_data"
    }
   ],
   "source": [
    "# create ml features df\n",
    "ml_features_data = wrangled_data.select('label',\n",
    "                                        'userId',\n",
    "                                        'gender',\n",
    "                                        'usStateAbbr',\n",
    "                                        col('avg(itemInSession)').alias(\"avg_item_in_session\"),\n",
    "                                        col('avg(sessionLength_s)').alias('avg_session_length'),\n",
    "                                        col('sum(recc_performance_good_events)').alias('num_good_recc'),\n",
    "                                        col('sum(recc_performance_bad_events)').alias('num_bad_recc'),\n",
    "                                        col('sum(sys_performance_bad)').alias('num_bad_sys'))"
   ]
  },
  {
   "cell_type": "code",
   "execution_count": 16,
   "metadata": {},
   "outputs": [
    {
     "data": {
      "application/vnd.jupyter.widget-view+json": {
       "model_id": "00b5d20436104326940354c9b766b750",
       "version_major": 2,
       "version_minor": 0
      },
      "text/plain": [
       "VBox()"
      ]
     },
     "metadata": {},
     "output_type": "display_data"
    },
    {
     "data": {
      "application/vnd.jupyter.widget-view+json": {
       "model_id": "",
       "version_major": 2,
       "version_minor": 0
      },
      "text/plain": [
       "FloatProgress(value=0.0, bar_style='info', description='Progress:', layout=Layout(height='25px', width='50%'),…"
      ]
     },
     "metadata": {},
     "output_type": "display_data"
    },
    {
     "name": "stdout",
     "output_type": "stream",
     "text": [
      "DataFrame[userId: string, authLevel: string, gender: string, itemInSession: bigint, sessionLength_s: double, subLevel: string, location: string, page: string, unixRegistrationTS: bigint, sessionId: bigint, unixEventTS: bigint, timestampDatetime: string, registrationDatetime: string, usStateAbbr: string, churn: int, label: bigint, avg(itemInSession): double, avg(sessionLength_s): double, recc_performance_good_events: int, sum(recc_performance_good_events): bigint, recc_performance_bad_events: int, sum(recc_performance_bad_events): bigint, sys_performance_bad: int, sum(sys_performance_bad): bigint]"
     ]
    }
   ],
   "source": [
    "ml_features_data = ml_features_data.drop_duplicates()  # remove duplicates as features will be created on each event row\n",
    "data_df.unpersist();  # clean up to free up space\n",
    "wrangled_data.unpersist();  # clean up to free up space"
   ]
  },
  {
   "cell_type": "code",
   "execution_count": 17,
   "metadata": {},
   "outputs": [
    {
     "data": {
      "application/vnd.jupyter.widget-view+json": {
       "model_id": "582b63d752194b2cb0b583e49a6daadb",
       "version_major": 2,
       "version_minor": 0
      },
      "text/plain": [
       "VBox()"
      ]
     },
     "metadata": {},
     "output_type": "display_data"
    },
    {
     "data": {
      "application/vnd.jupyter.widget-view+json": {
       "model_id": "",
       "version_major": 2,
       "version_minor": 0
      },
      "text/plain": [
       "FloatProgress(value=0.0, bar_style='info', description='Progress:', layout=Layout(height='25px', width='50%'),…"
      ]
     },
     "metadata": {},
     "output_type": "display_data"
    },
    {
     "name": "stdout",
     "output_type": "stream",
     "text": [
      "DataFrame[label: bigint, userId: string, gender: string, usStateAbbr: string, avg_item_in_session: double, avg_session_length: double, num_good_recc: bigint, num_bad_recc: bigint, num_bad_sys: bigint]"
     ]
    }
   ],
   "source": [
    "ml_features_data.limit(2)"
   ]
  },
  {
   "cell_type": "code",
   "execution_count": 18,
   "metadata": {},
   "outputs": [
    {
     "data": {
      "application/vnd.jupyter.widget-view+json": {
       "model_id": "a22bc5a6654d45f6abdab9e3a9c8cdc5",
       "version_major": 2,
       "version_minor": 0
      },
      "text/plain": [
       "VBox()"
      ]
     },
     "metadata": {},
     "output_type": "display_data"
    },
    {
     "data": {
      "application/vnd.jupyter.widget-view+json": {
       "model_id": "",
       "version_major": 2,
       "version_minor": 0
      },
      "text/plain": [
       "FloatProgress(value=0.0, bar_style='info', description='Progress:', layout=Layout(height='25px', width='50%'),…"
      ]
     },
     "metadata": {},
     "output_type": "display_data"
    }
   ],
   "source": [
    "def onehot_encoder(ml_features_data):\n",
    "    ## https://stackoverflow.com/questions/32277576/how-to-handle-categorical-features-with-spark-ml\n",
    "\n",
    "    cols = ['gender', 'usStateAbbr']\n",
    "\n",
    "    indexers = [\n",
    "        StringIndexer(inputCol=c, outputCol=\"{0}_indexed\".format(c))\n",
    "        for c in cols\n",
    "    ]\n",
    "\n",
    "    encoders = [\n",
    "        OneHotEncoder(\n",
    "            inputCol=indexer.getOutputCol(),\n",
    "            outputCol=\"{0}_encoded\".format(indexer.getOutputCol())) \n",
    "        for indexer in indexers\n",
    "    ]\n",
    "\n",
    "    assembler = VectorAssembler(\n",
    "        inputCols=[encoder.getOutputCol() for encoder in encoders],\n",
    "        outputCol=\"features2\"\n",
    "    )\n",
    "\n",
    "    pipeline = Pipeline(stages=indexers + encoders + [assembler])\n",
    "    return pipeline.fit(ml_features_data).transform(ml_features_data)\n",
    "\n",
    "ml_features_data = onehot_encoder(ml_features_data)"
   ]
  },
  {
   "cell_type": "code",
   "execution_count": 19,
   "metadata": {},
   "outputs": [
    {
     "data": {
      "application/vnd.jupyter.widget-view+json": {
       "model_id": "045946a264454e01b4ee34798e06c1b6",
       "version_major": 2,
       "version_minor": 0
      },
      "text/plain": [
       "VBox()"
      ]
     },
     "metadata": {},
     "output_type": "display_data"
    },
    {
     "data": {
      "application/vnd.jupyter.widget-view+json": {
       "model_id": "",
       "version_major": 2,
       "version_minor": 0
      },
      "text/plain": [
       "FloatProgress(value=0.0, bar_style='info', description='Progress:', layout=Layout(height='25px', width='50%'),…"
      ]
     },
     "metadata": {},
     "output_type": "display_data"
    },
    {
     "name": "stdout",
     "output_type": "stream",
     "text": [
      "Shape of ML table:\n",
      "(226, 14)"
     ]
    }
   ],
   "source": [
    "print('Shape of ML table:')\n",
    "print((ml_features_data.count(), len(ml_features_data.columns)))"
   ]
  },
  {
   "cell_type": "code",
   "execution_count": 20,
   "metadata": {},
   "outputs": [
    {
     "data": {
      "application/vnd.jupyter.widget-view+json": {
       "model_id": "e82309515f2343628687e0e0acb25c4f",
       "version_major": 2,
       "version_minor": 0
      },
      "text/plain": [
       "VBox()"
      ]
     },
     "metadata": {},
     "output_type": "display_data"
    },
    {
     "data": {
      "application/vnd.jupyter.widget-view+json": {
       "model_id": "",
       "version_major": 2,
       "version_minor": 0
      },
      "text/plain": [
       "FloatProgress(value=0.0, bar_style='info', description='Progress:', layout=Layout(height='25px', width='50%'),…"
      ]
     },
     "metadata": {},
     "output_type": "display_data"
    }
   ],
   "source": [
    "ml_features_data = ml_features_data.na.drop()  # catch any remaining nans"
   ]
  },
  {
   "cell_type": "code",
   "execution_count": 21,
   "metadata": {},
   "outputs": [
    {
     "data": {
      "application/vnd.jupyter.widget-view+json": {
       "model_id": "1cc7432977814eb6aef1a08f2f071cf5",
       "version_major": 2,
       "version_minor": 0
      },
      "text/plain": [
       "VBox()"
      ]
     },
     "metadata": {},
     "output_type": "display_data"
    },
    {
     "data": {
      "application/vnd.jupyter.widget-view+json": {
       "model_id": "",
       "version_major": 2,
       "version_minor": 0
      },
      "text/plain": [
       "FloatProgress(value=0.0, bar_style='info', description='Progress:', layout=Layout(height='25px', width='50%'),…"
      ]
     },
     "metadata": {},
     "output_type": "display_data"
    },
    {
     "name": "stdout",
     "output_type": "stream",
     "text": [
      "Shape of ML table:\n",
      "(225, 14)"
     ]
    }
   ],
   "source": [
    "print('Shape of ML table:')\n",
    "print((ml_features_data.count(), len(ml_features_data.columns)))"
   ]
  },
  {
   "cell_type": "code",
   "execution_count": 22,
   "metadata": {},
   "outputs": [
    {
     "data": {
      "application/vnd.jupyter.widget-view+json": {
       "model_id": "b9a74643e1cb4e909b7b3ab134a083dc",
       "version_major": 2,
       "version_minor": 0
      },
      "text/plain": [
       "VBox()"
      ]
     },
     "metadata": {},
     "output_type": "display_data"
    },
    {
     "data": {
      "application/vnd.jupyter.widget-view+json": {
       "model_id": "",
       "version_major": 2,
       "version_minor": 0
      },
      "text/plain": [
       "FloatProgress(value=0.0, bar_style='info', description='Progress:', layout=Layout(height='25px', width='50%'),…"
      ]
     },
     "metadata": {},
     "output_type": "display_data"
    }
   ],
   "source": [
    "def vector_assembler(ml_features_data):\n",
    "\n",
    "    # this vector is created in prep for ml\n",
    "    assembler = VectorAssembler(inputCols=[\"avg_item_in_session\",\n",
    "                                           \"avg_session_length\",\n",
    "                                           \"num_good_recc\",\n",
    "                                           \"num_bad_recc\",\n",
    "                                           \"num_bad_sys\",\n",
    "                                           'gender_indexed',\n",
    "                                           'usStateAbbr_indexed'],\n",
    "                                outputCol=\"raw_features\",)\n",
    "                                #handleInvalid=\"skip\")\n",
    "\n",
    "    return assembler.transform(ml_features_data)\n",
    "\n",
    "ml_features_data = vector_assembler(ml_features_data)"
   ]
  },
  {
   "cell_type": "code",
   "execution_count": 23,
   "metadata": {},
   "outputs": [
    {
     "data": {
      "application/vnd.jupyter.widget-view+json": {
       "model_id": "aac03bae05e04c9991496ecca8478f7d",
       "version_major": 2,
       "version_minor": 0
      },
      "text/plain": [
       "VBox()"
      ]
     },
     "metadata": {},
     "output_type": "display_data"
    },
    {
     "data": {
      "application/vnd.jupyter.widget-view+json": {
       "model_id": "",
       "version_major": 2,
       "version_minor": 0
      },
      "text/plain": [
       "FloatProgress(value=0.0, bar_style='info', description='Progress:', layout=Layout(height='25px', width='50%'),…"
      ]
     },
     "metadata": {},
     "output_type": "display_data"
    }
   ],
   "source": [
    "def feature_scaler(ml_features_data):\n",
    "    \"\"\"apply scaler\n",
    "    \"\"\"\n",
    "    scaler = Normalizer(inputCol=\"raw_features\", outputCol=\"features\")\n",
    "    return scaler.transform(ml_features_data)\n",
    "\n",
    "ml_df = feature_scaler(ml_features_data)"
   ]
  },
  {
   "cell_type": "markdown",
   "metadata": {},
   "source": [
    "## Machine Learning "
   ]
  },
  {
   "cell_type": "code",
   "execution_count": 24,
   "metadata": {},
   "outputs": [
    {
     "data": {
      "application/vnd.jupyter.widget-view+json": {
       "model_id": "bf71d54122294e369e388d10991125e8",
       "version_major": 2,
       "version_minor": 0
      },
      "text/plain": [
       "VBox()"
      ]
     },
     "metadata": {},
     "output_type": "display_data"
    },
    {
     "data": {
      "application/vnd.jupyter.widget-view+json": {
       "model_id": "",
       "version_major": 2,
       "version_minor": 0
      },
      "text/plain": [
       "FloatProgress(value=0.0, bar_style='info', description='Progress:', layout=Layout(height='25px', width='50%'),…"
      ]
     },
     "metadata": {},
     "output_type": "display_data"
    }
   ],
   "source": [
    "def train_set_evaluator(train):\n",
    "    \"\"\"Check for data skew\n",
    "    \"\"\"\n",
    "    churned_count = train.filter(train['label']==1).count()\n",
    "    non_churned_count = train.filter(train['label']==0).count()\n",
    "    \n",
    "    print(\"{} churned users\".format(churned_count))\n",
    "    print(\"{} non-churned users\".format(non_churned_count))\n",
    "    print(\"{} ratio of churned/non-churned users\".format(churned_count/non_churned_count))\n",
    "\n",
    "def custom_evaluation(results):\n",
    "    \"\"\"Customer function to evaluate result.\n",
    "    \"\"\"\n",
    "    # Generic evaluation\n",
    "    total_results = results.count()\n",
    "    correct_pred = results.filter(results.label == results.prediction).count()\n",
    "    incorrect_pred = results.filter(results.label != results.prediction).count()\n",
    "    \n",
    "    print('Total users predicted correctly: {}'.format(correct_pred))\n",
    "    print('Total users predicted wrongly: {}'.format(incorrect_pred))\n",
    "    print(\"Percentage predicted correct (%): {} \\n\".format((correct_pred/total_results)*100))\n",
    "    \n",
    "    # Correct churn predictions\n",
    "    churn_correct = results.filter((results.label == 1) & (results.prediction == 1)).count()\n",
    "    actual_churned_users = results.filter(results.label == 1).count()\n",
    "    print('User churned and predicted to churn: {}'.format(churn_correct))\n",
    "    print('Total users churned : {}'.format(actual_churned_users))\n",
    "    print('Percent churned user events predicted correctly(%): {}\\n'.format((churn_correct/actual_churned_users)*100))\n",
    "    \n",
    "    # Incorrect churn predictions\n",
    "    churn_incorrect = results.filter((results.label == 0) & (results.prediction == 1)).count()\n",
    "    print('User did not churn and predicted to: {}'.format(churn_incorrect))\n",
    "    print('Percent churned users predicted incorrectly(%): {}\\n'.format((churn_incorrect/total_results)*100))\n",
    "\n",
    "def model_metrics(results):\n",
    "    # ref: https://stackoverflow.com/questions/60772315/how-to-evaluate-a-classifier-with-apache-spark-2-4-5-and-pyspark-python\n",
    "\n",
    "    # Create both evaluators\n",
    "    evaluatorMulti = MulticlassClassificationEvaluator(labelCol=\"target\",\n",
    "                                                       predictionCol=\"prediction\")\n",
    "    evaluator = BinaryClassificationEvaluator(labelCol=\"target\",\n",
    "                                              rawPredictionCol=\"prediction\",\n",
    "                                              metricName='areaUnderROC')\n",
    "    \n",
    "    # Make predicitons\n",
    "    results_cast = results.withColumn(\"target\", col(\"label\").cast(DoubleType()))\n",
    "    predictionAndTarget = results_cast.select(\"target\",\"prediction\")\n",
    "\n",
    "    # Get metrics\n",
    "    acc = evaluatorMulti.evaluate(predictionAndTarget, {evaluatorMulti.metricName: \"accuracy\"})\n",
    "    print(\"Accuracy: {}\".format(acc))\n",
    "    \n",
    "    f1 = evaluatorMulti.evaluate(predictionAndTarget, {evaluatorMulti.metricName: \"f1\"})\n",
    "    print(\"F1Score: {}\".format(f1))\n",
    "     \n",
    "    weightedPrecision = evaluatorMulti.evaluate(predictionAndTarget, {evaluatorMulti.metricName: \"weightedPrecision\"})\n",
    "    print(\"WeightedPrecision: {}\".format(weightedPrecision))\n",
    "\n",
    "    weightedRecall = evaluatorMulti.evaluate(predictionAndTarget, {evaluatorMulti.metricName: \"weightedRecall\"})\n",
    "    print(\"WeightedRecall: {}\".format(weightedRecall))\n",
    "    \n",
    "    auc = evaluator.evaluate(predictionAndTarget)\n",
    "    print(\"AUC: {}\".format(auc))"
   ]
  },
  {
   "cell_type": "code",
   "execution_count": 25,
   "metadata": {},
   "outputs": [
    {
     "data": {
      "application/vnd.jupyter.widget-view+json": {
       "model_id": "4847c5aefbcf4ab0aa429e0a421fba31",
       "version_major": 2,
       "version_minor": 0
      },
      "text/plain": [
       "VBox()"
      ]
     },
     "metadata": {},
     "output_type": "display_data"
    },
    {
     "data": {
      "application/vnd.jupyter.widget-view+json": {
       "model_id": "",
       "version_major": 2,
       "version_minor": 0
      },
      "text/plain": [
       "FloatProgress(value=0.0, bar_style='info', description='Progress:', layout=Layout(height='25px', width='50%'),…"
      ]
     },
     "metadata": {},
     "output_type": "display_data"
    },
    {
     "name": "stdout",
     "output_type": "stream",
     "text": [
      "DataFrame[label: bigint, features: vector]"
     ]
    }
   ],
   "source": [
    "ml_df = ml_df.select(['label', 'features'])\n",
    "ml_df.limit(2)"
   ]
  },
  {
   "cell_type": "code",
   "execution_count": 26,
   "metadata": {},
   "outputs": [
    {
     "data": {
      "application/vnd.jupyter.widget-view+json": {
       "model_id": "22c2cd5e03c3488b83635af6198d6a07",
       "version_major": 2,
       "version_minor": 0
      },
      "text/plain": [
       "VBox()"
      ]
     },
     "metadata": {},
     "output_type": "display_data"
    },
    {
     "data": {
      "application/vnd.jupyter.widget-view+json": {
       "model_id": "",
       "version_major": 2,
       "version_minor": 0
      },
      "text/plain": [
       "FloatProgress(value=0.0, bar_style='info', description='Progress:', layout=Layout(height='25px', width='50%'),…"
      ]
     },
     "metadata": {},
     "output_type": "display_data"
    }
   ],
   "source": [
    "# train test split for ML validation\n",
    "train, test =  ml_df.randomSplit([0.7, 0.3], seed=42)  # more equal fit to combat overfitting"
   ]
  },
  {
   "cell_type": "code",
   "execution_count": 27,
   "metadata": {},
   "outputs": [
    {
     "data": {
      "application/vnd.jupyter.widget-view+json": {
       "model_id": "03f5a313b4274b50a9088e9b1e4ea97e",
       "version_major": 2,
       "version_minor": 0
      },
      "text/plain": [
       "VBox()"
      ]
     },
     "metadata": {},
     "output_type": "display_data"
    },
    {
     "data": {
      "application/vnd.jupyter.widget-view+json": {
       "model_id": "",
       "version_major": 2,
       "version_minor": 0
      },
      "text/plain": [
       "FloatProgress(value=0.0, bar_style='info', description='Progress:', layout=Layout(height='25px', width='50%'),…"
      ]
     },
     "metadata": {},
     "output_type": "display_data"
    },
    {
     "name": "stdout",
     "output_type": "stream",
     "text": [
      "38 churned users\n",
      "111 non-churned users\n",
      "0.34234234234234234 ratio of churned/non-churned users"
     ]
    }
   ],
   "source": [
    "train_set_evaluator(train)"
   ]
  },
  {
   "cell_type": "markdown",
   "metadata": {},
   "source": [
    "## Models"
   ]
  },
  {
   "cell_type": "markdown",
   "metadata": {},
   "source": [
    "### Logistic Regression"
   ]
  },
  {
   "cell_type": "code",
   "execution_count": 38,
   "metadata": {},
   "outputs": [
    {
     "data": {
      "application/vnd.jupyter.widget-view+json": {
       "model_id": "f2faa262f98b4f3f901bc5995581c897",
       "version_major": 2,
       "version_minor": 0
      },
      "text/plain": [
       "VBox()"
      ]
     },
     "metadata": {},
     "output_type": "display_data"
    },
    {
     "data": {
      "application/vnd.jupyter.widget-view+json": {
       "model_id": "",
       "version_major": 2,
       "version_minor": 0
      },
      "text/plain": [
       "FloatProgress(value=0.0, bar_style='info', description='Progress:', layout=Layout(height='25px', width='50%'),…"
      ]
     },
     "metadata": {},
     "output_type": "display_data"
    },
    {
     "name": "stdout",
     "output_type": "stream",
     "text": [
      "Baseline Logistic Regression Model"
     ]
    }
   ],
   "source": [
    "print('Baseline Logistic Regression Model')\n",
    "lr_model = LogisticRegression().fit(train)\n",
    "lr_results = lr_model.transform(test)"
   ]
  },
  {
   "cell_type": "code",
   "execution_count": 39,
   "metadata": {},
   "outputs": [
    {
     "data": {
      "application/vnd.jupyter.widget-view+json": {
       "model_id": "020eba6702e446159ae523b791fe5a4f",
       "version_major": 2,
       "version_minor": 0
      },
      "text/plain": [
       "VBox()"
      ]
     },
     "metadata": {},
     "output_type": "display_data"
    },
    {
     "data": {
      "application/vnd.jupyter.widget-view+json": {
       "model_id": "",
       "version_major": 2,
       "version_minor": 0
      },
      "text/plain": [
       "FloatProgress(value=0.0, bar_style='info', description='Progress:', layout=Layout(height='25px', width='50%'),…"
      ]
     },
     "metadata": {},
     "output_type": "display_data"
    },
    {
     "name": "stdout",
     "output_type": "stream",
     "text": [
      "Total users predicted correctly: 63\n",
      "Total users predicted wrongly: 13\n",
      "Percentage predicted correct (%): 82.89473684210526 \n",
      "\n",
      "User churned and predicted to churn: 1\n",
      "Total users churned : 14\n",
      "Percent churned user events predicted correctly(%): 7.142857142857142\n",
      "\n",
      "User did not churn and predicted to: 0\n",
      "Percent churned users predicted incorrectly(%): 0.0"
     ]
    }
   ],
   "source": [
    "custom_evaluation(lr_results)"
   ]
  },
  {
   "cell_type": "code",
   "execution_count": 40,
   "metadata": {},
   "outputs": [
    {
     "data": {
      "application/vnd.jupyter.widget-view+json": {
       "model_id": "bcebb0f0d3ea4c0e9baf1ef4ceebb64c",
       "version_major": 2,
       "version_minor": 0
      },
      "text/plain": [
       "VBox()"
      ]
     },
     "metadata": {},
     "output_type": "display_data"
    },
    {
     "data": {
      "application/vnd.jupyter.widget-view+json": {
       "model_id": "",
       "version_major": 2,
       "version_minor": 0
      },
      "text/plain": [
       "FloatProgress(value=0.0, bar_style='info', description='Progress:', layout=Layout(height='25px', width='50%'),…"
      ]
     },
     "metadata": {},
     "output_type": "display_data"
    },
    {
     "name": "stdout",
     "output_type": "stream",
     "text": [
      "Accuracy: 0.7741935483870968\n",
      "F1Score: 0.7117062284439034\n",
      "WeightedPrecision: 0.7523236741388737\n",
      "WeightedRecall: 0.7741935483870968\n",
      "AUC: 0.5560283687943263"
     ]
    }
   ],
   "source": [
    "model_metrics(lr_results)"
   ]
  },
  {
   "cell_type": "code",
   "execution_count": 41,
   "metadata": {},
   "outputs": [
    {
     "data": {
      "application/vnd.jupyter.widget-view+json": {
       "model_id": "92f06b77a01f4aa2aa2ee0365c16ece1",
       "version_major": 2,
       "version_minor": 0
      },
      "text/plain": [
       "VBox()"
      ]
     },
     "metadata": {},
     "output_type": "display_data"
    },
    {
     "data": {
      "application/vnd.jupyter.widget-view+json": {
       "model_id": "",
       "version_major": 2,
       "version_minor": 0
      },
      "text/plain": [
       "FloatProgress(value=0.0, bar_style='info', description='Progress:', layout=Layout(height='25px', width='50%'),…"
      ]
     },
     "metadata": {},
     "output_type": "display_data"
    },
    {
     "name": "stdout",
     "output_type": "stream",
     "text": [
      "DataFrame[label: bigint, features: vector, rawPrediction: vector, probability: vector, prediction: double]"
     ]
    }
   ],
   "source": [
    "lr_results.unpersist();  # clean up to free up space!"
   ]
  },
  {
   "cell_type": "markdown",
   "metadata": {},
   "source": [
    "### Random Forest Classifier"
   ]
  },
  {
   "cell_type": "code",
   "execution_count": 42,
   "metadata": {},
   "outputs": [
    {
     "data": {
      "application/vnd.jupyter.widget-view+json": {
       "model_id": "267b62a9b58d42ec8b799534aa5f273f",
       "version_major": 2,
       "version_minor": 0
      },
      "text/plain": [
       "VBox()"
      ]
     },
     "metadata": {},
     "output_type": "display_data"
    },
    {
     "data": {
      "application/vnd.jupyter.widget-view+json": {
       "model_id": "",
       "version_major": 2,
       "version_minor": 0
      },
      "text/plain": [
       "FloatProgress(value=0.0, bar_style='info', description='Progress:', layout=Layout(height='25px', width='50%'),…"
      ]
     },
     "metadata": {},
     "output_type": "display_data"
    },
    {
     "name": "stdout",
     "output_type": "stream",
     "text": [
      "Baseline Random Forest Classifier Model"
     ]
    }
   ],
   "source": [
    "print('Baseline Random Forest Classifier Model')\n",
    "rfc_model = RandomForestClassifier().fit(train)\n",
    "rfc_results = rfc_model.transform(test)"
   ]
  },
  {
   "cell_type": "code",
   "execution_count": 43,
   "metadata": {},
   "outputs": [
    {
     "data": {
      "application/vnd.jupyter.widget-view+json": {
       "model_id": "27ec2b1c247448189c2bc1ed5d93da25",
       "version_major": 2,
       "version_minor": 0
      },
      "text/plain": [
       "VBox()"
      ]
     },
     "metadata": {},
     "output_type": "display_data"
    },
    {
     "data": {
      "application/vnd.jupyter.widget-view+json": {
       "model_id": "",
       "version_major": 2,
       "version_minor": 0
      },
      "text/plain": [
       "FloatProgress(value=0.0, bar_style='info', description='Progress:', layout=Layout(height='25px', width='50%'),…"
      ]
     },
     "metadata": {},
     "output_type": "display_data"
    },
    {
     "name": "stdout",
     "output_type": "stream",
     "text": [
      "Total users predicted correctly: 65\n",
      "Total users predicted wrongly: 11\n",
      "Percentage predicted correct (%): 85.52631578947368 \n",
      "\n",
      "User churned and predicted to churn: 3\n",
      "Total users churned : 14\n",
      "Percent churned user events predicted correctly(%): 21.428571428571427\n",
      "\n",
      "User did not churn and predicted to: 0\n",
      "Percent churned users predicted incorrectly(%): 0.0"
     ]
    }
   ],
   "source": [
    "custom_evaluation(rfc_results)"
   ]
  },
  {
   "cell_type": "code",
   "execution_count": 44,
   "metadata": {},
   "outputs": [
    {
     "data": {
      "application/vnd.jupyter.widget-view+json": {
       "model_id": "df9e4f191aae4176b415bbf40160ba87",
       "version_major": 2,
       "version_minor": 0
      },
      "text/plain": [
       "VBox()"
      ]
     },
     "metadata": {},
     "output_type": "display_data"
    },
    {
     "data": {
      "application/vnd.jupyter.widget-view+json": {
       "model_id": "",
       "version_major": 2,
       "version_minor": 0
      },
      "text/plain": [
       "FloatProgress(value=0.0, bar_style='info', description='Progress:', layout=Layout(height='25px', width='50%'),…"
      ]
     },
     "metadata": {},
     "output_type": "display_data"
    },
    {
     "name": "stdout",
     "output_type": "stream",
     "text": [
      "Accuracy: 0.7741935483870968\n",
      "F1Score: 0.7117062284439034\n",
      "WeightedPrecision: 0.7523236741388737\n",
      "WeightedRecall: 0.7741935483870968\n",
      "AUC: 0.5560283687943263"
     ]
    }
   ],
   "source": [
    "model_metrics(rfc_results)"
   ]
  },
  {
   "cell_type": "markdown",
   "metadata": {},
   "source": [
    "### Gradient Boosting"
   ]
  },
  {
   "cell_type": "code",
   "execution_count": 45,
   "metadata": {},
   "outputs": [
    {
     "data": {
      "application/vnd.jupyter.widget-view+json": {
       "model_id": "6bd4e5ac6a8446c685f1b864070c3e4c",
       "version_major": 2,
       "version_minor": 0
      },
      "text/plain": [
       "VBox()"
      ]
     },
     "metadata": {},
     "output_type": "display_data"
    },
    {
     "data": {
      "application/vnd.jupyter.widget-view+json": {
       "model_id": "",
       "version_major": 2,
       "version_minor": 0
      },
      "text/plain": [
       "FloatProgress(value=0.0, bar_style='info', description='Progress:', layout=Layout(height='25px', width='50%'),…"
      ]
     },
     "metadata": {},
     "output_type": "display_data"
    },
    {
     "name": "stdout",
     "output_type": "stream",
     "text": [
      "Baseline GBT Classifier Model"
     ]
    }
   ],
   "source": [
    "print('Baseline GBT Classifier Model')\n",
    "gbt_model = GBTClassifier().fit(train)\n",
    "gbt_results = gbt_model.transform(test)"
   ]
  },
  {
   "cell_type": "code",
   "execution_count": 46,
   "metadata": {},
   "outputs": [
    {
     "data": {
      "application/vnd.jupyter.widget-view+json": {
       "model_id": "335816da698f4a8e951eccf76a91f9c0",
       "version_major": 2,
       "version_minor": 0
      },
      "text/plain": [
       "VBox()"
      ]
     },
     "metadata": {},
     "output_type": "display_data"
    },
    {
     "data": {
      "application/vnd.jupyter.widget-view+json": {
       "model_id": "",
       "version_major": 2,
       "version_minor": 0
      },
      "text/plain": [
       "FloatProgress(value=0.0, bar_style='info', description='Progress:', layout=Layout(height='25px', width='50%'),…"
      ]
     },
     "metadata": {},
     "output_type": "display_data"
    },
    {
     "name": "stdout",
     "output_type": "stream",
     "text": [
      "SparseVector(7, {0: 0.169, 1: 0.1259, 2: 0.1662, 3: 0.1693, 4: 0.1601, 5: 0.0569, 6: 0.1526})"
     ]
    }
   ],
   "source": [
    "gbt_model.featureImportances"
   ]
  },
  {
   "cell_type": "code",
   "execution_count": 47,
   "metadata": {},
   "outputs": [
    {
     "data": {
      "application/vnd.jupyter.widget-view+json": {
       "model_id": "3d32eda03cad42fe8412027dafe77bfb",
       "version_major": 2,
       "version_minor": 0
      },
      "text/plain": [
       "VBox()"
      ]
     },
     "metadata": {},
     "output_type": "display_data"
    },
    {
     "data": {
      "application/vnd.jupyter.widget-view+json": {
       "model_id": "",
       "version_major": 2,
       "version_minor": 0
      },
      "text/plain": [
       "FloatProgress(value=0.0, bar_style='info', description='Progress:', layout=Layout(height='25px', width='50%'),…"
      ]
     },
     "metadata": {},
     "output_type": "display_data"
    },
    {
     "name": "stdout",
     "output_type": "stream",
     "text": [
      "Total users predicted correctly: 71\n",
      "Total users predicted wrongly: 5\n",
      "Percentage predicted correct (%): 93.42105263157895 \n",
      "\n",
      "User churned and predicted to churn: 12\n",
      "Total users churned : 14\n",
      "Percent churned user events predicted correctly(%): 85.71428571428571\n",
      "\n",
      "User did not churn and predicted to: 3\n",
      "Percent churned users predicted incorrectly(%): 3.9473684210526314"
     ]
    }
   ],
   "source": [
    "custom_evaluation(gbt_results)"
   ]
  },
  {
   "cell_type": "code",
   "execution_count": 48,
   "metadata": {},
   "outputs": [
    {
     "data": {
      "application/vnd.jupyter.widget-view+json": {
       "model_id": "7dda0b5304344bcc825516b625ed2efe",
       "version_major": 2,
       "version_minor": 0
      },
      "text/plain": [
       "VBox()"
      ]
     },
     "metadata": {},
     "output_type": "display_data"
    },
    {
     "data": {
      "application/vnd.jupyter.widget-view+json": {
       "model_id": "",
       "version_major": 2,
       "version_minor": 0
      },
      "text/plain": [
       "FloatProgress(value=0.0, bar_style='info', description='Progress:', layout=Layout(height='25px', width='50%'),…"
      ]
     },
     "metadata": {},
     "output_type": "display_data"
    },
    {
     "name": "stdout",
     "output_type": "stream",
     "text": [
      "Accuracy: 0.6774193548387096\n",
      "F1Score: 0.6892262281256589\n",
      "WeightedPrecision: 0.7061633829510009\n",
      "WeightedRecall: 0.6774193548387097\n",
      "AUC: 0.6056737588652483"
     ]
    }
   ],
   "source": [
    "model_metrics(gbt_results)"
   ]
  },
  {
   "cell_type": "code",
   "execution_count": 49,
   "metadata": {},
   "outputs": [
    {
     "data": {
      "application/vnd.jupyter.widget-view+json": {
       "model_id": "cf13657c66914243b04c19bfb9716336",
       "version_major": 2,
       "version_minor": 0
      },
      "text/plain": [
       "VBox()"
      ]
     },
     "metadata": {},
     "output_type": "display_data"
    },
    {
     "data": {
      "application/vnd.jupyter.widget-view+json": {
       "model_id": "",
       "version_major": 2,
       "version_minor": 0
      },
      "text/plain": [
       "FloatProgress(value=0.0, bar_style='info', description='Progress:', layout=Layout(height='25px', width='50%'),…"
      ]
     },
     "metadata": {},
     "output_type": "display_data"
    },
    {
     "name": "stdout",
     "output_type": "stream",
     "text": [
      "DataFrame[label: bigint, features: vector, rawPrediction: vector, probability: vector, prediction: double]"
     ]
    }
   ],
   "source": [
    "gbt_results.unpersist()  # clean up to free up space!"
   ]
  },
  {
   "cell_type": "markdown",
   "metadata": {},
   "source": [
    "### Cross Validation"
   ]
  },
  {
   "cell_type": "code",
   "execution_count": 28,
   "metadata": {},
   "outputs": [
    {
     "data": {
      "application/vnd.jupyter.widget-view+json": {
       "model_id": "8d42edfe41e242889809f13cd5869e19",
       "version_major": 2,
       "version_minor": 0
      },
      "text/plain": [
       "VBox()"
      ]
     },
     "metadata": {},
     "output_type": "display_data"
    },
    {
     "data": {
      "application/vnd.jupyter.widget-view+json": {
       "model_id": "",
       "version_major": 2,
       "version_minor": 0
      },
      "text/plain": [
       "FloatProgress(value=0.0, bar_style='info', description='Progress:', layout=Layout(height='25px', width='50%'),…"
      ]
     },
     "metadata": {},
     "output_type": "display_data"
    }
   ],
   "source": [
    "from pyspark.ml.evaluation import BinaryClassificationEvaluator\n",
    "\n",
    "# pipeline, just running it on classifier no transformations\n",
    "gbt_cv_model = GBTClassifier()\n",
    "\n",
    "pipeline = Pipeline(stages=[gbt_cv_model])\n",
    "\n",
    "# set up param grid to iterate over\n",
    "paramGrid = ParamGridBuilder()\\\n",
    ".addGrid(gbt_cv_model.maxDepth, [4, 7])\\\n",
    ".addGrid(gbt_cv_model.maxBins, [15, 40])\\\n",
    ".build()\n",
    "\n",
    "# .addGrid(gbt_cv_model.stepSize, [0.05, 0.2])\\\n",
    "# default maxDepth: 5\n",
    "# default maxBins: 32\n",
    "# default stepSize: 0.1\n",
    "# default maxIter: 20 .addGrid(gbt_cv_model.maxIter, [15, 30, 40])\\\n",
    "\n",
    "# cv_evaluator = BinaryClassificationEvaluator(rawPredictionCol='prediction',\n",
    "#                                                     labelCol='label',\n",
    "#                                                     metricName='f1')\n",
    "\n",
    "cv_evaluator = MulticlassClassificationEvaluator(predictionCol='prediction',\n",
    "                                                 labelCol='label',\n",
    "                                                 metricName='f1')\n",
    "\n",
    "# set up crossvalidator to tune parameters and optimize, returns best model\n",
    "crossval = CrossValidator(estimator=pipeline,\n",
    "                         estimatorParamMaps=paramGrid,\n",
    "                         evaluator=cv_evaluator,\n",
    "                         numFolds=3)"
   ]
  },
  {
   "cell_type": "code",
   "execution_count": 33,
   "metadata": {},
   "outputs": [
    {
     "data": {
      "application/vnd.jupyter.widget-view+json": {
       "model_id": "0c65c70a01d64c208bef69a3b95d9955",
       "version_major": 2,
       "version_minor": 0
      },
      "text/plain": [
       "VBox()"
      ]
     },
     "metadata": {},
     "output_type": "display_data"
    },
    {
     "data": {
      "application/vnd.jupyter.widget-view+json": {
       "model_id": "",
       "version_major": 2,
       "version_minor": 0
      },
      "text/plain": [
       "FloatProgress(value=0.0, bar_style='info', description='Progress:', layout=Layout(height='25px', width='50%'),…"
      ]
     },
     "metadata": {},
     "output_type": "display_data"
    }
   ],
   "source": [
    "cvModel = crossval.fit(train)  # train model\n",
    "cv_results = cvModel.transform(test)  # apply model on test data"
   ]
  },
  {
   "cell_type": "code",
   "execution_count": 34,
   "metadata": {},
   "outputs": [
    {
     "data": {
      "application/vnd.jupyter.widget-view+json": {
       "model_id": "c183728e38e0430f8b80ec4f544fe128",
       "version_major": 2,
       "version_minor": 0
      },
      "text/plain": [
       "VBox()"
      ]
     },
     "metadata": {},
     "output_type": "display_data"
    },
    {
     "data": {
      "application/vnd.jupyter.widget-view+json": {
       "model_id": "",
       "version_major": 2,
       "version_minor": 0
      },
      "text/plain": [
       "FloatProgress(value=0.0, bar_style='info', description='Progress:', layout=Layout(height='25px', width='50%'),…"
      ]
     },
     "metadata": {},
     "output_type": "display_data"
    },
    {
     "name": "stdout",
     "output_type": "stream",
     "text": [
      "Total users predicted correctly: 67\n",
      "Total users predicted wrongly: 9\n",
      "Percentage predicted correct (%): 88.1578947368421 \n",
      "\n",
      "User churned and predicted to churn: 8\n",
      "Total users churned : 14\n",
      "Percent churned user events predicted correctly(%): 57.14285714285714\n",
      "\n",
      "User did not churn and predicted to: 3\n",
      "Percent churned users predicted incorrectly(%): 3.9473684210526314"
     ]
    }
   ],
   "source": [
    "custom_evaluation(cv_results)"
   ]
  },
  {
   "cell_type": "code",
   "execution_count": 35,
   "metadata": {},
   "outputs": [
    {
     "data": {
      "application/vnd.jupyter.widget-view+json": {
       "model_id": "b281f435c138446aa53939f2d31b8046",
       "version_major": 2,
       "version_minor": 0
      },
      "text/plain": [
       "VBox()"
      ]
     },
     "metadata": {},
     "output_type": "display_data"
    },
    {
     "data": {
      "application/vnd.jupyter.widget-view+json": {
       "model_id": "",
       "version_major": 2,
       "version_minor": 0
      },
      "text/plain": [
       "FloatProgress(value=0.0, bar_style='info', description='Progress:', layout=Layout(height='25px', width='50%'),…"
      ]
     },
     "metadata": {},
     "output_type": "display_data"
    },
    {
     "name": "stdout",
     "output_type": "stream",
     "text": [
      "Accuracy: 0.6935483870967742\n",
      "F1Score: 0.6812622399586151\n",
      "WeightedPrecision: 0.6719354838709678\n",
      "WeightedRecall: 0.6935483870967742\n",
      "AUC: 0.5482269503546099"
     ]
    }
   ],
   "source": [
    "model_metrics(cv_results)"
   ]
  },
  {
   "cell_type": "code",
   "execution_count": 36,
   "metadata": {},
   "outputs": [
    {
     "data": {
      "application/vnd.jupyter.widget-view+json": {
       "model_id": "f06c111824344e08a53881d012302b37",
       "version_major": 2,
       "version_minor": 0
      },
      "text/plain": [
       "VBox()"
      ]
     },
     "metadata": {},
     "output_type": "display_data"
    },
    {
     "data": {
      "application/vnd.jupyter.widget-view+json": {
       "model_id": "",
       "version_major": 2,
       "version_minor": 0
      },
      "text/plain": [
       "FloatProgress(value=0.0, bar_style='info', description='Progress:', layout=Layout(height='25px', width='50%'),…"
      ]
     },
     "metadata": {},
     "output_type": "display_data"
    }
   ],
   "source": [
    "evaluator=MulticlassClassificationEvaluator(metricName=\"f1\")"
   ]
  },
  {
   "cell_type": "code",
   "execution_count": 37,
   "metadata": {},
   "outputs": [
    {
     "data": {
      "application/vnd.jupyter.widget-view+json": {
       "model_id": "386e80b788d94b85904bf8b1178e8f1c",
       "version_major": 2,
       "version_minor": 0
      },
      "text/plain": [
       "VBox()"
      ]
     },
     "metadata": {},
     "output_type": "display_data"
    },
    {
     "data": {
      "application/vnd.jupyter.widget-view+json": {
       "model_id": "",
       "version_major": 2,
       "version_minor": 0
      },
      "text/plain": [
       "FloatProgress(value=0.0, bar_style='info', description='Progress:', layout=Layout(height='25px', width='50%'),…"
      ]
     },
     "metadata": {},
     "output_type": "display_data"
    },
    {
     "name": "stdout",
     "output_type": "stream",
     "text": [
      "0.6812622399586151"
     ]
    }
   ],
   "source": [
    "evaluator.evaluate(cv_results)"
   ]
  },
  {
   "cell_type": "code",
   "execution_count": null,
   "metadata": {},
   "outputs": [],
   "source": []
  }
 ],
 "metadata": {
  "kernelspec": {
   "display_name": "PySpark",
   "language": "",
   "name": "pysparkkernel"
  },
  "language_info": {
   "codemirror_mode": {
    "name": "python",
    "version": 2
   },
   "mimetype": "text/x-python",
   "name": "pyspark",
   "pygments_lexer": "python2"
  }
 },
 "nbformat": 4,
 "nbformat_minor": 4
}
