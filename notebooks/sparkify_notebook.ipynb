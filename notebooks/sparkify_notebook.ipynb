{
 "cells": [
  {
   "cell_type": "markdown",
   "metadata": {},
   "source": [
    "# Predicting User Churn with Apache Spark and AWS EMR"
   ]
  },
  {
   "cell_type": "markdown",
   "metadata": {},
   "source": [
    "This notebook contains data cleaning, feature creation and ML optimization for the Sparkify dataset."
   ]
  },
  {
   "cell_type": "markdown",
   "metadata": {},
   "source": [
    "## Setup"
   ]
  },
  {
   "cell_type": "code",
   "execution_count": 1,
   "metadata": {},
   "outputs": [
    {
     "data": {
      "text/html": [
       "Current session configs: <tt>{'driverMemory': '6000M', 'kind': 'pyspark'}</tt><br>"
      ],
      "text/plain": [
       "<IPython.core.display.HTML object>"
      ]
     },
     "metadata": {},
     "output_type": "display_data"
    },
    {
     "data": {
      "text/html": [
       "No active sessions."
      ],
      "text/plain": [
       "<IPython.core.display.HTML object>"
      ]
     },
     "metadata": {},
     "output_type": "display_data"
    }
   ],
   "source": [
    "%%configure -f \n",
    "{\"driverMemory\": \"6000M\"}"
   ]
  },
  {
   "cell_type": "code",
   "execution_count": 2,
   "metadata": {},
   "outputs": [
    {
     "data": {
      "application/vnd.jupyter.widget-view+json": {
       "model_id": "d29a5d9cb4fc4fba971db6e240519d45",
       "version_major": 2,
       "version_minor": 0
      },
      "text/plain": [
       "VBox()"
      ]
     },
     "metadata": {},
     "output_type": "display_data"
    },
    {
     "name": "stdout",
     "output_type": "stream",
     "text": [
      "Starting Spark application\n"
     ]
    },
    {
     "data": {
      "text/html": [
       "<table>\n",
       "<tr><th>ID</th><th>YARN Application ID</th><th>Kind</th><th>State</th><th>Spark UI</th><th>Driver log</th><th>Current session?</th></tr><tr><td>2</td><td>application_1597600389056_0003</td><td>pyspark</td><td>idle</td><td><a target=\"_blank\" href=\"http://ip-172-31-32-111.us-east-2.compute.internal:20888/proxy/application_1597600389056_0003/\">Link</a></td><td><a target=\"_blank\" href=\"http://ip-172-31-33-251.us-east-2.compute.internal:8042/node/containerlogs/container_1597600389056_0003_01_000001/livy\">Link</a></td><td>✔</td></tr></table>"
      ],
      "text/plain": [
       "<IPython.core.display.HTML object>"
      ]
     },
     "metadata": {},
     "output_type": "display_data"
    },
    {
     "data": {
      "application/vnd.jupyter.widget-view+json": {
       "model_id": "",
       "version_major": 2,
       "version_minor": 0
      },
      "text/plain": [
       "FloatProgress(value=0.0, bar_style='info', description='Progress:', layout=Layout(height='25px', width='50%'),…"
      ]
     },
     "metadata": {},
     "output_type": "display_data"
    },
    {
     "name": "stdout",
     "output_type": "stream",
     "text": [
      "SparkSession available as 'spark'.\n"
     ]
    },
    {
     "data": {
      "application/vnd.jupyter.widget-view+json": {
       "model_id": "",
       "version_major": 2,
       "version_minor": 0
      },
      "text/plain": [
       "FloatProgress(value=0.0, bar_style='info', description='Progress:', layout=Layout(height='25px', width='50%'),…"
      ]
     },
     "metadata": {},
     "output_type": "display_data"
    }
   ],
   "source": [
    "#conf.set(\"spark.executor.heartbeatInterval\",\"3600s\")"
   ]
  },
  {
   "cell_type": "code",
   "execution_count": 3,
   "metadata": {},
   "outputs": [
    {
     "data": {
      "application/vnd.jupyter.widget-view+json": {
       "model_id": "62180844c3444eb29bbf7bbbc7a3839c",
       "version_major": 2,
       "version_minor": 0
      },
      "text/plain": [
       "VBox()"
      ]
     },
     "metadata": {},
     "output_type": "display_data"
    },
    {
     "data": {
      "application/vnd.jupyter.widget-view+json": {
       "model_id": "",
       "version_major": 2,
       "version_minor": 0
      },
      "text/plain": [
       "FloatProgress(value=0.0, bar_style='info', description='Progress:', layout=Layout(height='25px', width='50%'),…"
      ]
     },
     "metadata": {},
     "output_type": "display_data"
    }
   ],
   "source": [
    "# imports\n",
    "\n",
    "# pyspark sql\n",
    "from pyspark.sql import SparkSession, Window, functions as F\n",
    "from pyspark.sql.functions import from_unixtime, udf, col, when, isnan, desc\n",
    "from pyspark.sql.functions import sum as Fsum\n",
    "from pyspark.sql.types import IntegerType, StringType\n",
    "from pyspark.sql.functions import isnan, when, count, col\n",
    "\n",
    "# pyspark ml\n",
    "from pyspark.ml.feature import VectorAssembler, Normalizer, StringIndexer, OneHotEncoder\n",
    "from pyspark.ml.classification import LogisticRegression, RandomForestClassifier, GBTClassifier\n",
    "from pyspark.ml.pipeline import Pipeline\n",
    "from pyspark.ml.tuning import CrossValidator, ParamGridBuilder\n",
    "from pyspark.ml.evaluation import MulticlassClassificationEvaluator\n",
    "from pyspark.ml import Pipeline"
   ]
  },
  {
   "cell_type": "code",
   "execution_count": 4,
   "metadata": {},
   "outputs": [
    {
     "data": {
      "application/vnd.jupyter.widget-view+json": {
       "model_id": "a85cee5d30874cd1bb878a16ff953890",
       "version_major": 2,
       "version_minor": 0
      },
      "text/plain": [
       "VBox()"
      ]
     },
     "metadata": {},
     "output_type": "display_data"
    },
    {
     "data": {
      "application/vnd.jupyter.widget-view+json": {
       "model_id": "",
       "version_major": 2,
       "version_minor": 0
      },
      "text/plain": [
       "FloatProgress(value=0.0, bar_style='info', description='Progress:', layout=Layout(height='25px', width='50%'),…"
      ]
     },
     "metadata": {},
     "output_type": "display_data"
    }
   ],
   "source": [
    "# python imports\n",
    "import datetime\n",
    "from typing import NewType\n",
    "pysparkdf = NewType('pysparkdf', object)"
   ]
  },
  {
   "cell_type": "code",
   "execution_count": 5,
   "metadata": {},
   "outputs": [
    {
     "data": {
      "application/vnd.jupyter.widget-view+json": {
       "model_id": "5b459f8b57f2492a9e159cdab5e616d3",
       "version_major": 2,
       "version_minor": 0
      },
      "text/plain": [
       "VBox()"
      ]
     },
     "metadata": {},
     "output_type": "display_data"
    },
    {
     "data": {
      "application/vnd.jupyter.widget-view+json": {
       "model_id": "",
       "version_major": 2,
       "version_minor": 0
      },
      "text/plain": [
       "FloatProgress(value=0.0, bar_style='info', description='Progress:', layout=Layout(height='25px', width='50%'),…"
      ]
     },
     "metadata": {},
     "output_type": "display_data"
    },
    {
     "name": "stdout",
     "output_type": "stream",
     "text": [
      "'6000M'"
     ]
    }
   ],
   "source": [
    "spark.sparkContext.getConf().get('spark.driver.memory')"
   ]
  },
  {
   "cell_type": "code",
   "execution_count": 6,
   "metadata": {},
   "outputs": [
    {
     "data": {
      "application/vnd.jupyter.widget-view+json": {
       "model_id": "e7221b4635714ac3b3a54c8ee7eafcbe",
       "version_major": 2,
       "version_minor": 0
      },
      "text/plain": [
       "VBox()"
      ]
     },
     "metadata": {},
     "output_type": "display_data"
    },
    {
     "data": {
      "application/vnd.jupyter.widget-view+json": {
       "model_id": "",
       "version_major": 2,
       "version_minor": 0
      },
      "text/plain": [
       "FloatProgress(value=0.0, bar_style='info', description='Progress:', layout=Layout(height='25px', width='50%'),…"
      ]
     },
     "metadata": {},
     "output_type": "display_data"
    }
   ],
   "source": [
    "# Build Spark session\n",
    "spark = SparkSession.builder.appName(\"Sparkify\").getOrCreate()\n",
    "\n",
    "event_data = \"s3n://udacity-dsnd/sparkify/mini_sparkify_event_data.json\"\n",
    "#event_data = \"s3n://udacity-dsnd/sparkify/sparkify_event_data.json\"\n",
    "\n",
    "data_df = spark.read.json(event_data)\n"
   ]
  },
  {
   "cell_type": "code",
   "execution_count": 7,
   "metadata": {},
   "outputs": [
    {
     "data": {
      "application/vnd.jupyter.widget-view+json": {
       "model_id": "d8a07c88a4294e9a8559c7c681321078",
       "version_major": 2,
       "version_minor": 0
      },
      "text/plain": [
       "VBox()"
      ]
     },
     "metadata": {},
     "output_type": "display_data"
    },
    {
     "data": {
      "application/vnd.jupyter.widget-view+json": {
       "model_id": "",
       "version_major": 2,
       "version_minor": 0
      },
      "text/plain": [
       "FloatProgress(value=0.0, bar_style='info', description='Progress:', layout=Layout(height='25px', width='50%'),…"
      ]
     },
     "metadata": {},
     "output_type": "display_data"
    },
    {
     "name": "stdout",
     "output_type": "stream",
     "text": [
      "Row(artist='Martha Tilston', auth='Logged In', firstName='Colin', gender='M', itemInSession=50, lastName='Freeman', length=277.89016, level='paid', location='Bakersfield, CA', method='PUT', page='NextSong', registration=1538173362000, sessionId=29, song='Rockpools', status=200, ts=1538352117000, userAgent='Mozilla/5.0 (Windows NT 6.1; WOW64; rv:31.0) Gecko/20100101 Firefox/31.0', userId='30')"
     ]
    }
   ],
   "source": [
    "data_df.head()"
   ]
  },
  {
   "cell_type": "code",
   "execution_count": 8,
   "metadata": {},
   "outputs": [
    {
     "data": {
      "application/vnd.jupyter.widget-view+json": {
       "model_id": "38b53351ad2c478b90673eff0d50e737",
       "version_major": 2,
       "version_minor": 0
      },
      "text/plain": [
       "VBox()"
      ]
     },
     "metadata": {},
     "output_type": "display_data"
    },
    {
     "data": {
      "application/vnd.jupyter.widget-view+json": {
       "model_id": "",
       "version_major": 2,
       "version_minor": 0
      },
      "text/plain": [
       "FloatProgress(value=0.0, bar_style='info', description='Progress:', layout=Layout(height='25px', width='50%'),…"
      ]
     },
     "metadata": {},
     "output_type": "display_data"
    },
    {
     "name": "stdout",
     "output_type": "stream",
     "text": [
      "[Row(count(DISTINCT userId)=226)]"
     ]
    }
   ],
   "source": [
    "from pyspark.sql.functions import countDistinct\n",
    "\n",
    "# count users\n",
    "data_df.agg(countDistinct(\"userId\")).collect()"
   ]
  },
  {
   "cell_type": "code",
   "execution_count": 9,
   "metadata": {},
   "outputs": [
    {
     "data": {
      "application/vnd.jupyter.widget-view+json": {
       "model_id": "8f767105024a44638653451de72670e0",
       "version_major": 2,
       "version_minor": 0
      },
      "text/plain": [
       "VBox()"
      ]
     },
     "metadata": {},
     "output_type": "display_data"
    },
    {
     "data": {
      "application/vnd.jupyter.widget-view+json": {
       "model_id": "",
       "version_major": 2,
       "version_minor": 0
      },
      "text/plain": [
       "FloatProgress(value=0.0, bar_style='info', description='Progress:', layout=Layout(height='25px', width='50%'),…"
      ]
     },
     "metadata": {},
     "output_type": "display_data"
    },
    {
     "name": "stdout",
     "output_type": "stream",
     "text": [
      "(286500, 18)"
     ]
    }
   ],
   "source": [
    "# count events\n",
    "print((data_df.count(), len(data_df.columns)))"
   ]
  },
  {
   "cell_type": "code",
   "execution_count": 10,
   "metadata": {},
   "outputs": [
    {
     "data": {
      "application/vnd.jupyter.widget-view+json": {
       "model_id": "0a83fea6869440269298959ec359b50a",
       "version_major": 2,
       "version_minor": 0
      },
      "text/plain": [
       "VBox()"
      ]
     },
     "metadata": {},
     "output_type": "display_data"
    },
    {
     "data": {
      "application/vnd.jupyter.widget-view+json": {
       "model_id": "",
       "version_major": 2,
       "version_minor": 0
      },
      "text/plain": [
       "FloatProgress(value=0.0, bar_style='info', description='Progress:', layout=Layout(height='25px', width='50%'),…"
      ]
     },
     "metadata": {},
     "output_type": "display_data"
    },
    {
     "name": "stdout",
     "output_type": "stream",
     "text": [
      "Row(min(ts)=1538352117000, max(ts)=1543799476000)"
     ]
    }
   ],
   "source": [
    "from pyspark.sql.functions import min, max\n",
    "data_df.select(min(\"ts\"), max(\"ts\")).first()"
   ]
  },
  {
   "cell_type": "markdown",
   "metadata": {},
   "source": [
    "## Data Wrangling"
   ]
  },
  {
   "cell_type": "code",
   "execution_count": 11,
   "metadata": {},
   "outputs": [
    {
     "data": {
      "application/vnd.jupyter.widget-view+json": {
       "model_id": "c8d76207c8634c268bda421ebe3b7bda",
       "version_major": 2,
       "version_minor": 0
      },
      "text/plain": [
       "VBox()"
      ]
     },
     "metadata": {},
     "output_type": "display_data"
    },
    {
     "data": {
      "application/vnd.jupyter.widget-view+json": {
       "model_id": "",
       "version_major": 2,
       "version_minor": 0
      },
      "text/plain": [
       "FloatProgress(value=0.0, bar_style='info', description='Progress:', layout=Layout(height='25px', width='50%'),…"
      ]
     },
     "metadata": {},
     "output_type": "display_data"
    }
   ],
   "source": [
    "def clean_df(data_df):\n",
    "    \"\"\"Remove non useful columns and drop missing values for user and session.\n",
    "    \"\"\"\n",
    "    # lets remove some of the columns we don't think will be useful from data exploration\n",
    "    cols_to_drop = ['firstName', 'lastName','artist', 'song', 'method', 'status', 'userAgent']\n",
    "    user_log_df = data_df.drop(*cols_to_drop)\n",
    "    \n",
    "    # drop rows with missing info\n",
    "    return user_log_df.dropna(how = \"any\", subset = [\"userId\", \"sessionId\"])\n",
    "\n",
    "def unix_to_datetime(data_df):\n",
    "    \"\"\" onvert unix timestamps to datetime.\n",
    "    \"\"\"\n",
    "    # event unix to datetime\n",
    "    data_df = data_df.withColumn(\"timestampDatetime\",\n",
    "                                         from_unixtime(user_log_valid.ts/1000,\n",
    "                                                       format='yyyy-MM-dd HH:mm:ss'))\n",
    "    # registration unix to datetime\n",
    "    data_df = data_df.withColumn(\"registrationDatetime\",\n",
    "                                         from_unixtime(user_log_valid.registration/1000,\n",
    "                                                       format='yyyy-MM-dd HH:mm:ss'))\n",
    "    return data_df\n",
    "\n",
    "def create_us_states(data_df):\n",
    "    \"\"\"Create US states column from location.\n",
    "    \"\"\"\n",
    "    # we don't really want to drop these rows as the col isn't vital \n",
    "    # so replace missing values to allow split\n",
    "    data_df = data_df.fillna({'location':'unknown'})\n",
    "\n",
    "    # define UDFs\n",
    "    # create state column\n",
    "    loc_split = udf(lambda x: x.split(', ')[-1], StringType())\n",
    "\n",
    "    # Sates seem to be appended, so take latest\n",
    "    state_split = udf(lambda x: x.split('-')[-1], StringType())\n",
    "\n",
    "    # apply UDFs\n",
    "    data_df = data_df.withColumn(\"usStateAbbr\",\n",
    "                                 when(data_df.location.isNotNull(),\n",
    "                                      loc_split(data_df.location)).otherwise(''))\n",
    "    data_df = data_df.withColumn(\"usStateAbbr\",\n",
    "                                 when(data_df.usStateAbbr.isNotNull(),\n",
    "                                      state_split(data_df.usStateAbbr)).otherwise(''))\n",
    "    return data_df\n",
    "\n",
    "def replace_missing_gender(data_df):\n",
    "    \"\"\"Replace missing gender with 'unknown'.\n",
    "    \"\"\"\n",
    "    return data_df.fillna({'gender':'unknown'})"
   ]
  },
  {
   "cell_type": "code",
   "execution_count": 12,
   "metadata": {},
   "outputs": [
    {
     "data": {
      "application/vnd.jupyter.widget-view+json": {
       "model_id": "a4de3ffb129c4c4a89ba72afe47c4467",
       "version_major": 2,
       "version_minor": 0
      },
      "text/plain": [
       "VBox()"
      ]
     },
     "metadata": {},
     "output_type": "display_data"
    },
    {
     "data": {
      "application/vnd.jupyter.widget-view+json": {
       "model_id": "",
       "version_major": 2,
       "version_minor": 0
      },
      "text/plain": [
       "FloatProgress(value=0.0, bar_style='info', description='Progress:', layout=Layout(height='25px', width='50%'),…"
      ]
     },
     "metadata": {},
     "output_type": "display_data"
    }
   ],
   "source": [
    "user_log_valid = clean_df(data_df)\n",
    "user_log_valid = unix_to_datetime(user_log_valid)\n",
    "user_log_valid = create_us_states(user_log_valid)\n",
    "user_log_valid = replace_missing_gender(user_log_valid)"
   ]
  },
  {
   "cell_type": "code",
   "execution_count": 13,
   "metadata": {},
   "outputs": [
    {
     "data": {
      "application/vnd.jupyter.widget-view+json": {
       "model_id": "028d9fe4668d4915912a836f767a6aa6",
       "version_major": 2,
       "version_minor": 0
      },
      "text/plain": [
       "VBox()"
      ]
     },
     "metadata": {},
     "output_type": "display_data"
    },
    {
     "data": {
      "application/vnd.jupyter.widget-view+json": {
       "model_id": "",
       "version_major": 2,
       "version_minor": 0
      },
      "text/plain": [
       "FloatProgress(value=0.0, bar_style='info', description='Progress:', layout=Layout(height='25px', width='50%'),…"
      ]
     },
     "metadata": {},
     "output_type": "display_data"
    }
   ],
   "source": [
    "wrangled_data = user_log_valid.withColumnRenamed(\"auth\", \"authLevel\").\\\n",
    "                               withColumnRenamed(\"length\", \"sessionLength_s\").\\\n",
    "                               withColumnRenamed(\"level\", \"subLevel\").\\\n",
    "                               withColumnRenamed(\"ts\", \"unixEventTS\").\\\n",
    "                               withColumnRenamed(\"registration\", \"unixRegistrationTS\")"
   ]
  },
  {
   "cell_type": "markdown",
   "metadata": {},
   "source": [
    "## Feature Engineering"
   ]
  },
  {
   "cell_type": "code",
   "execution_count": 14,
   "metadata": {},
   "outputs": [
    {
     "data": {
      "application/vnd.jupyter.widget-view+json": {
       "model_id": "683fab7c2dc14e12b144c44be85f1b93",
       "version_major": 2,
       "version_minor": 0
      },
      "text/plain": [
       "VBox()"
      ]
     },
     "metadata": {},
     "output_type": "display_data"
    },
    {
     "data": {
      "application/vnd.jupyter.widget-view+json": {
       "model_id": "",
       "version_major": 2,
       "version_minor": 0
      },
      "text/plain": [
       "FloatProgress(value=0.0, bar_style='info', description='Progress:', layout=Layout(height='25px', width='50%'),…"
      ]
     },
     "metadata": {},
     "output_type": "display_data"
    }
   ],
   "source": [
    "def create_phase_feature(data_df: pysparkdf) -> pysparkdf:\n",
    "    \"\"\"Use the cancellation to identify churned users.\n",
    "    \"\"\"\n",
    "    # flag any cancellation confirmation events in pages\n",
    "    flag_cancellation_event = udf(lambda x: 1 if x == \"Cancellation Confirmation\" else 0, IntegerType())\n",
    "    data_df = data_df.withColumn(\"churn\", flag_cancellation_event(\"page\"))\n",
    "\n",
    "    # search for flags and fill user rows as churned\n",
    "    windowval = Window.partitionBy(\"userId\").orderBy(desc(\"unixEventTS\")).rangeBetween(Window.unboundedPreceding, 0)\n",
    "    return data_df.withColumn(\"label\", Fsum(\"churn\").over(windowval))\n",
    "\n",
    "def avg_items_in_session(data_df: pysparkdf)-> pysparkdf:\n",
    "    \"\"\"Calculate avg items in session for each user.\n",
    "    \"\"\"\n",
    "    # calculate metric and join dfs back together\n",
    "    return data_df.join(data_df.groupBy('userId').avg('itemInSession'),\n",
    "                               on='userId')\n",
    "\n",
    "def avg_user_listening_time(data_df: pysparkdf) -> pysparkdf:\n",
    "    \"\"\"Calculate average listening time.\n",
    "    \"\"\"\n",
    "    return data_df.join(data_df.groupBy('userId').avg('sessionLength_s'),\n",
    "                               on='userId')\n",
    "\n",
    "def recommendation_performance_good(data_df: pysparkdf) -> pysparkdf:\n",
    "    \"\"\"Number of Positive Events.\n",
    "    \"\"\"\n",
    "    # flag events\n",
    "    data_df = data_df.withColumn(\"recc_performance_good_events\",\n",
    "                                 when((data_df[\"page\"] == 'Add to Playlist') |\\\n",
    "                                      (data_df[\"page\"] == 'Add Friend') |\\\n",
    "                                      (data_df[\"page\"] == 'Thumbs Up'),\n",
    "                                       1).otherwise(0))\n",
    "    # calculate number\n",
    "    return data_df.join(data_df.groupBy('userId').sum('recc_performance_good_events'),\n",
    "                               on='userId')\n",
    "\n",
    "def recommendation_performance_bad(data_df: pysparkdf) -> pysparkdf:\n",
    "    \"\"\"Number of Positive Events.\n",
    "    \"\"\"\n",
    "    # flag events\n",
    "    data_df = data_df.withColumn(\"recc_performance_bad_events\",\n",
    "                                 when((data_df[\"page\"] == 'Thumbs Down'),\n",
    "                                       1).otherwise(0))\n",
    "    # calculate number\n",
    "    return data_df.join(data_df.groupBy('userId').sum('recc_performance_bad_events'),\n",
    "                               on='userId')\n",
    "\n",
    "def system_performance_bad(data_df: pysparkdf) -> pysparkdf:\n",
    "    \"\"\"Number of Positive Events.\n",
    "    \"\"\"\n",
    "    # flag events\n",
    "    data_df = data_df.withColumn(\"sys_performance_bad\",\n",
    "                                 when((data_df[\"page\"] == 'Help') |\\\n",
    "                                      (data_df[\"page\"] == 'Upgrade') |\\\n",
    "                                      (data_df[\"page\"] == 'Error'),\n",
    "                                       1).otherwise(0))\n",
    "    # calculate number                                \n",
    "    return data_df.join(data_df.groupBy('userId').sum('sys_performance_bad'),\n",
    "                               on='userId')"
   ]
  },
  {
   "cell_type": "code",
   "execution_count": 15,
   "metadata": {},
   "outputs": [
    {
     "data": {
      "application/vnd.jupyter.widget-view+json": {
       "model_id": "c2a77382640b4ccab287a81a162a048f",
       "version_major": 2,
       "version_minor": 0
      },
      "text/plain": [
       "VBox()"
      ]
     },
     "metadata": {},
     "output_type": "display_data"
    },
    {
     "data": {
      "application/vnd.jupyter.widget-view+json": {
       "model_id": "",
       "version_major": 2,
       "version_minor": 0
      },
      "text/plain": [
       "FloatProgress(value=0.0, bar_style='info', description='Progress:', layout=Layout(height='25px', width='50%'),…"
      ]
     },
     "metadata": {},
     "output_type": "display_data"
    }
   ],
   "source": [
    "# create features\n",
    "wrangled_data = create_phase_feature(wrangled_data)\n",
    "wrangled_data = avg_items_in_session(wrangled_data)\n",
    "wrangled_data = avg_user_listening_time(wrangled_data)\n",
    "wrangled_data = recommendation_performance_good(wrangled_data)\n",
    "wrangled_data = recommendation_performance_bad(wrangled_data)\n",
    "wrangled_data = system_performance_bad(wrangled_data)"
   ]
  },
  {
   "cell_type": "code",
   "execution_count": 16,
   "metadata": {},
   "outputs": [
    {
     "data": {
      "application/vnd.jupyter.widget-view+json": {
       "model_id": "384771c2889d467a9e3358f79c57a402",
       "version_major": 2,
       "version_minor": 0
      },
      "text/plain": [
       "VBox()"
      ]
     },
     "metadata": {},
     "output_type": "display_data"
    },
    {
     "data": {
      "application/vnd.jupyter.widget-view+json": {
       "model_id": "",
       "version_major": 2,
       "version_minor": 0
      },
      "text/plain": [
       "FloatProgress(value=0.0, bar_style='info', description='Progress:', layout=Layout(height='25px', width='50%'),…"
      ]
     },
     "metadata": {},
     "output_type": "display_data"
    }
   ],
   "source": [
    "# create ml features df\n",
    "ml_features_data = wrangled_data.select('label',\n",
    "                                        'userId',\n",
    "                                        'gender',\n",
    "                                        'usStateAbbr',\n",
    "                                        col('avg(itemInSession)').alias(\"avg_item_in_session\"),\n",
    "                                        col('avg(sessionLength_s)').alias('avg_session_length'),\n",
    "                                        col('sum(recc_performance_good_events)').alias('num_good_recc'),\n",
    "                                        col('sum(recc_performance_bad_events)').alias('num_bad_recc'),\n",
    "                                        col('sum(sys_performance_bad)').alias('num_bad_sys'))"
   ]
  },
  {
   "cell_type": "code",
   "execution_count": 17,
   "metadata": {},
   "outputs": [
    {
     "data": {
      "application/vnd.jupyter.widget-view+json": {
       "model_id": "a455d7cd7fb74471845508c782b98022",
       "version_major": 2,
       "version_minor": 0
      },
      "text/plain": [
       "VBox()"
      ]
     },
     "metadata": {},
     "output_type": "display_data"
    },
    {
     "data": {
      "application/vnd.jupyter.widget-view+json": {
       "model_id": "",
       "version_major": 2,
       "version_minor": 0
      },
      "text/plain": [
       "FloatProgress(value=0.0, bar_style='info', description='Progress:', layout=Layout(height='25px', width='50%'),…"
      ]
     },
     "metadata": {},
     "output_type": "display_data"
    }
   ],
   "source": [
    "ml_features_data = ml_features_data.drop_duplicates()  # remove duplicates as features will be created on each event row"
   ]
  },
  {
   "cell_type": "code",
   "execution_count": 18,
   "metadata": {},
   "outputs": [
    {
     "data": {
      "application/vnd.jupyter.widget-view+json": {
       "model_id": "84abddd4d163446b9a4496f19c1877db",
       "version_major": 2,
       "version_minor": 0
      },
      "text/plain": [
       "VBox()"
      ]
     },
     "metadata": {},
     "output_type": "display_data"
    },
    {
     "data": {
      "application/vnd.jupyter.widget-view+json": {
       "model_id": "",
       "version_major": 2,
       "version_minor": 0
      },
      "text/plain": [
       "FloatProgress(value=0.0, bar_style='info', description='Progress:', layout=Layout(height='25px', width='50%'),…"
      ]
     },
     "metadata": {},
     "output_type": "display_data"
    },
    {
     "name": "stdout",
     "output_type": "stream",
     "text": [
      "[Row(label=1, userId='100005', gender='M', usStateAbbr='LA', avg_item_in_session=29.61111111111111, avg_session_length=240.50079227272732, num_good_recc=13, num_bad_recc=3, num_bad_sys=6), Row(label=1, userId='100014', gender='M', usStateAbbr='PA', avg_item_in_session=34.538709677419355, avg_session_length=263.43763455252935, num_good_recc=30, num_bad_recc=3, num_bad_sys=2), Row(label=1, userId='100025', gender='F', usStateAbbr='PA', avg_item_in_session=131.2808988764045, avg_session_length=242.92456783673484, num_good_recc=32, num_bad_recc=7, num_bad_sys=7), Row(label=0, userId='154', gender='F', usStateAbbr='PA', avg_item_in_session=26.56779661016949, avg_session_length=245.95266559523813, num_good_recc=15, num_bad_recc=0, num_bad_sys=1), Row(label=1, userId='18', gender='M', usStateAbbr='KS', avg_item_in_session=59.14035087719298, avg_session_length=253.32141729603728, num_good_recc=44, num_bad_recc=1, num_bad_sys=1)]"
     ]
    }
   ],
   "source": [
    "ml_features_data.head(5)"
   ]
  },
  {
   "cell_type": "code",
   "execution_count": 19,
   "metadata": {},
   "outputs": [
    {
     "data": {
      "application/vnd.jupyter.widget-view+json": {
       "model_id": "bc80f2df90b344cca373c5d3447b9101",
       "version_major": 2,
       "version_minor": 0
      },
      "text/plain": [
       "VBox()"
      ]
     },
     "metadata": {},
     "output_type": "display_data"
    },
    {
     "data": {
      "application/vnd.jupyter.widget-view+json": {
       "model_id": "",
       "version_major": 2,
       "version_minor": 0
      },
      "text/plain": [
       "FloatProgress(value=0.0, bar_style='info', description='Progress:', layout=Layout(height='25px', width='50%'),…"
      ]
     },
     "metadata": {},
     "output_type": "display_data"
    },
    {
     "name": "stdout",
     "output_type": "stream",
     "text": [
      "DataFrame[userId: string, authLevel: string, gender: string, itemInSession: bigint, sessionLength_s: double, subLevel: string, location: string, page: string, unixRegistrationTS: bigint, sessionId: bigint, unixEventTS: bigint, timestampDatetime: string, registrationDatetime: string, usStateAbbr: string, churn: int, label: bigint, avg(itemInSession): double, avg(sessionLength_s): double, recc_performance_good_events: int, sum(recc_performance_good_events): bigint, recc_performance_bad_events: int, sum(recc_performance_bad_events): bigint, sys_performance_bad: int, sum(sys_performance_bad): bigint]"
     ]
    }
   ],
   "source": [
    "# clean up to free up space!\n",
    "data_df.unpersist()\n",
    "wrangled_data.unpersist()"
   ]
  },
  {
   "cell_type": "code",
   "execution_count": 20,
   "metadata": {},
   "outputs": [
    {
     "data": {
      "application/vnd.jupyter.widget-view+json": {
       "model_id": "f503542fda3a452b85a284caf65b63ba",
       "version_major": 2,
       "version_minor": 0
      },
      "text/plain": [
       "VBox()"
      ]
     },
     "metadata": {},
     "output_type": "display_data"
    },
    {
     "data": {
      "application/vnd.jupyter.widget-view+json": {
       "model_id": "",
       "version_major": 2,
       "version_minor": 0
      },
      "text/plain": [
       "FloatProgress(value=0.0, bar_style='info', description='Progress:', layout=Layout(height='25px', width='50%'),…"
      ]
     },
     "metadata": {},
     "output_type": "display_data"
    },
    {
     "name": "stdout",
     "output_type": "stream",
     "text": [
      "(226, 9)"
     ]
    }
   ],
   "source": [
    "print((ml_features_data.count(), len(ml_features_data.columns)))"
   ]
  },
  {
   "cell_type": "code",
   "execution_count": 21,
   "metadata": {},
   "outputs": [
    {
     "data": {
      "application/vnd.jupyter.widget-view+json": {
       "model_id": "cd24ee0145814a1e9fb998068b9cf6e9",
       "version_major": 2,
       "version_minor": 0
      },
      "text/plain": [
       "VBox()"
      ]
     },
     "metadata": {},
     "output_type": "display_data"
    },
    {
     "data": {
      "application/vnd.jupyter.widget-view+json": {
       "model_id": "",
       "version_major": 2,
       "version_minor": 0
      },
      "text/plain": [
       "FloatProgress(value=0.0, bar_style='info', description='Progress:', layout=Layout(height='25px', width='50%'),…"
      ]
     },
     "metadata": {},
     "output_type": "display_data"
    }
   ],
   "source": [
    "def onehot_encoder(ml_features_data):\n",
    "    ## https://stackoverflow.com/questions/32277576/how-to-handle-categorical-features-with-spark-ml\n",
    "\n",
    "    cols = ['gender', 'usStateAbbr']\n",
    "\n",
    "    indexers = [\n",
    "        StringIndexer(inputCol=c, outputCol=\"{0}_indexed\".format(c))\n",
    "        for c in cols\n",
    "    ]\n",
    "\n",
    "    encoders = [\n",
    "        OneHotEncoder(\n",
    "            inputCol=indexer.getOutputCol(),\n",
    "            outputCol=\"{0}_encoded\".format(indexer.getOutputCol())) \n",
    "        for indexer in indexers\n",
    "    ]\n",
    "\n",
    "    assembler = VectorAssembler(\n",
    "        inputCols=[encoder.getOutputCol() for encoder in encoders],\n",
    "        outputCol=\"features2\"\n",
    "    )\n",
    "\n",
    "    pipeline = Pipeline(stages=indexers + encoders + [assembler])\n",
    "    return pipeline.fit(ml_features_data).transform(ml_features_data)\n",
    "\n",
    "ml_features_data = onehot_encoder(ml_features_data)"
   ]
  },
  {
   "cell_type": "code",
   "execution_count": 22,
   "metadata": {},
   "outputs": [
    {
     "data": {
      "application/vnd.jupyter.widget-view+json": {
       "model_id": "89648273cb524feb8dd21503e7bf975a",
       "version_major": 2,
       "version_minor": 0
      },
      "text/plain": [
       "VBox()"
      ]
     },
     "metadata": {},
     "output_type": "display_data"
    },
    {
     "data": {
      "application/vnd.jupyter.widget-view+json": {
       "model_id": "",
       "version_major": 2,
       "version_minor": 0
      },
      "text/plain": [
       "FloatProgress(value=0.0, bar_style='info', description='Progress:', layout=Layout(height='25px', width='50%'),…"
      ]
     },
     "metadata": {},
     "output_type": "display_data"
    }
   ],
   "source": [
    "def vector_assembler(ml_features_data):\n",
    "\n",
    "    # this vector is created in prep for ml\n",
    "    assembler = VectorAssembler(inputCols=[\"avg_item_in_session\",\n",
    "                                           \"avg_session_length\",\n",
    "                                           \"num_good_recc\",\n",
    "                                           \"num_bad_recc\",\n",
    "                                           \"num_bad_sys\",\n",
    "                                           'gender_indexed',\n",
    "                                           'usStateAbbr_indexed'],\n",
    "                                outputCol=\"raw_features\",\n",
    "                                handleInvalid=\"skip\")\n",
    "\n",
    "    return assembler.transform(ml_features_data)\n",
    "\n",
    "ml_features_data = vector_assembler(ml_features_data)"
   ]
  },
  {
   "cell_type": "code",
   "execution_count": 23,
   "metadata": {},
   "outputs": [
    {
     "data": {
      "application/vnd.jupyter.widget-view+json": {
       "model_id": "5603bda9e94f4a908577516a662efce2",
       "version_major": 2,
       "version_minor": 0
      },
      "text/plain": [
       "VBox()"
      ]
     },
     "metadata": {},
     "output_type": "display_data"
    },
    {
     "data": {
      "application/vnd.jupyter.widget-view+json": {
       "model_id": "",
       "version_major": 2,
       "version_minor": 0
      },
      "text/plain": [
       "FloatProgress(value=0.0, bar_style='info', description='Progress:', layout=Layout(height='25px', width='50%'),…"
      ]
     },
     "metadata": {},
     "output_type": "display_data"
    }
   ],
   "source": [
    "def feature_scaler(ml_features_data):\n",
    "    \"\"\"apply scaler\n",
    "    \"\"\"\n",
    "    scaler = Normalizer(inputCol=\"raw_features\", outputCol=\"features\")\n",
    "    return scaler.transform(ml_features_data)\n",
    "\n",
    "ml_df = feature_scaler(ml_features_data)"
   ]
  },
  {
   "cell_type": "markdown",
   "metadata": {},
   "source": [
    "## Machine Learning"
   ]
  },
  {
   "cell_type": "code",
   "execution_count": 24,
   "metadata": {},
   "outputs": [
    {
     "data": {
      "application/vnd.jupyter.widget-view+json": {
       "model_id": "31db6c9640454d589c89e0ff7acbb201",
       "version_major": 2,
       "version_minor": 0
      },
      "text/plain": [
       "VBox()"
      ]
     },
     "metadata": {},
     "output_type": "display_data"
    },
    {
     "data": {
      "application/vnd.jupyter.widget-view+json": {
       "model_id": "",
       "version_major": 2,
       "version_minor": 0
      },
      "text/plain": [
       "FloatProgress(value=0.0, bar_style='info', description='Progress:', layout=Layout(height='25px', width='50%'),…"
      ]
     },
     "metadata": {},
     "output_type": "display_data"
    }
   ],
   "source": [
    "def evaluate_model(results):\n",
    "    \"\"\"Customer function to evaluate result.\n",
    "    \"\"\"\n",
    "    # Generic evaluation\n",
    "    total_results = results.count()\n",
    "    correct_pred = results.filter(results.label == results.prediction).count()\n",
    "    incorrect_pred = results.filter(results.label != results.prediction).count()\n",
    "    print('Total user events predicted correctly: {}'.format(correct_pred))\n",
    "    print('Total user events predicted wrongly: {}'.format(incorrect_pred))\n",
    "    print(\"Percentage predicted correct (%): {} \\n\".format((correct_pred/total_results)))\n",
    "    \n",
    "    # Correct churn predictions\n",
    "    churn_correct = results.filter((results.label == 1) & (results.prediction == 1)).count()\n",
    "    actual_churned_users = results.filter(results.label == 1).count()\n",
    "    print('User churned and predicted to churn: {}'.format(churn_correct))\n",
    "    print('User churned : {}'.format(actual_churned_users))\n",
    "    print('Percent churned user events predicted correctly(%): {}\\n'.format((churn_correct/actual_churned_users)))\n",
    "    \n",
    "    # Incorrect churn predictions\n",
    "    print('Number of events predicted to churn but didnt: {}'.format(results.filter((results.label == 0) & (results.label == 1)).count()))\n",
    "    churn_incorrect = results.filter((results.label == 0) & (results.prediction == 1)).count()\n",
    "    print('User did not churn and predicted to: {}'.format(churn_incorrect))\n",
    "    print('Percent churned user events predicted correctly(%): {}\\n'.format(churn_incorrect/total_results))\n",
    "    "
   ]
  },
  {
   "cell_type": "code",
   "execution_count": 25,
   "metadata": {},
   "outputs": [
    {
     "data": {
      "application/vnd.jupyter.widget-view+json": {
       "model_id": "255daa7bfe914be0981289fa55156f2f",
       "version_major": 2,
       "version_minor": 0
      },
      "text/plain": [
       "VBox()"
      ]
     },
     "metadata": {},
     "output_type": "display_data"
    },
    {
     "data": {
      "application/vnd.jupyter.widget-view+json": {
       "model_id": "",
       "version_major": 2,
       "version_minor": 0
      },
      "text/plain": [
       "FloatProgress(value=0.0, bar_style='info', description='Progress:', layout=Layout(height='25px', width='50%'),…"
      ]
     },
     "metadata": {},
     "output_type": "display_data"
    }
   ],
   "source": [
    "# train test split for ML validation\n",
    "train, test =  ml_df.randomSplit([0.6, 0.4], seed=42)  # more equal fit to combat overfitting"
   ]
  },
  {
   "cell_type": "code",
   "execution_count": 26,
   "metadata": {},
   "outputs": [
    {
     "data": {
      "application/vnd.jupyter.widget-view+json": {
       "model_id": "ec47d00090d94c40861055c8adc025b9",
       "version_major": 2,
       "version_minor": 0
      },
      "text/plain": [
       "VBox()"
      ]
     },
     "metadata": {},
     "output_type": "display_data"
    },
    {
     "data": {
      "application/vnd.jupyter.widget-view+json": {
       "model_id": "",
       "version_major": 2,
       "version_minor": 0
      },
      "text/plain": [
       "FloatProgress(value=0.0, bar_style='info', description='Progress:', layout=Layout(height='25px', width='50%'),…"
      ]
     },
     "metadata": {},
     "output_type": "display_data"
    },
    {
     "name": "stdout",
     "output_type": "stream",
     "text": [
      "33 churned user events\n",
      "99 non-churned user events\n",
      "0.3333333333333333 ratio of churned/non-churned user events"
     ]
    }
   ],
   "source": [
    "def train_set_evaluator(train):\n",
    "    \"\"\"Check for data skew\n",
    "    \"\"\"\n",
    "    print(\"{} churned user events\".format(train.filter(train['label']==1).count()))\n",
    "    print(\"{} non-churned user events\".format(train.filter(train['label']==0).count()))\n",
    "    print(\"{} ratio of churned/non-churned user events\".format(train.filter(train['label']==1).count()/train.filter(train['label']==0).count()))\n",
    "    \n",
    "train_set_evaluator(train)"
   ]
  },
  {
   "cell_type": "code",
   "execution_count": 27,
   "metadata": {},
   "outputs": [
    {
     "data": {
      "application/vnd.jupyter.widget-view+json": {
       "model_id": "8f7d6c5b66b54856b6fcc982e0473781",
       "version_major": 2,
       "version_minor": 0
      },
      "text/plain": [
       "VBox()"
      ]
     },
     "metadata": {},
     "output_type": "display_data"
    },
    {
     "data": {
      "application/vnd.jupyter.widget-view+json": {
       "model_id": "",
       "version_major": 2,
       "version_minor": 0
      },
      "text/plain": [
       "FloatProgress(value=0.0, bar_style='info', description='Progress:', layout=Layout(height='25px', width='50%'),…"
      ]
     },
     "metadata": {},
     "output_type": "display_data"
    }
   ],
   "source": [
    "# print('Baseline Logistic Regression Model')\n",
    "# lr_model = LogisticRegression().fit(train)\n",
    "# results = lr_model.transform(test)\n",
    "# evaluate_model(results)"
   ]
  },
  {
   "cell_type": "code",
   "execution_count": 28,
   "metadata": {},
   "outputs": [
    {
     "data": {
      "application/vnd.jupyter.widget-view+json": {
       "model_id": "10bed6ba3b1844f8a792cbc266e71eb7",
       "version_major": 2,
       "version_minor": 0
      },
      "text/plain": [
       "VBox()"
      ]
     },
     "metadata": {},
     "output_type": "display_data"
    },
    {
     "data": {
      "application/vnd.jupyter.widget-view+json": {
       "model_id": "",
       "version_major": 2,
       "version_minor": 0
      },
      "text/plain": [
       "FloatProgress(value=0.0, bar_style='info', description='Progress:', layout=Layout(height='25px', width='50%'),…"
      ]
     },
     "metadata": {},
     "output_type": "display_data"
    }
   ],
   "source": [
    "# print('Baseline Random Forest Classifier Model')\n",
    "# rfc_model = RandomForestClassifier().fit(train)\n",
    "# results = rfc_model.transform(test)\n",
    "# evaluate_model(results)"
   ]
  },
  {
   "cell_type": "code",
   "execution_count": 29,
   "metadata": {},
   "outputs": [
    {
     "data": {
      "application/vnd.jupyter.widget-view+json": {
       "model_id": "af0c3de7d0ca4ff285f655f369a00163",
       "version_major": 2,
       "version_minor": 0
      },
      "text/plain": [
       "VBox()"
      ]
     },
     "metadata": {},
     "output_type": "display_data"
    },
    {
     "data": {
      "application/vnd.jupyter.widget-view+json": {
       "model_id": "",
       "version_major": 2,
       "version_minor": 0
      },
      "text/plain": [
       "FloatProgress(value=0.0, bar_style='info', description='Progress:', layout=Layout(height='25px', width='50%'),…"
      ]
     },
     "metadata": {},
     "output_type": "display_data"
    }
   ],
   "source": [
    "# print('Baseline GBT Classifier Model')\n",
    "# gbt_model = GBTClassifier().fit(train)\n",
    "# results = gbt_model.transform(test)\n",
    "# evaluate_model(results)"
   ]
  },
  {
   "cell_type": "code",
   "execution_count": null,
   "metadata": {},
   "outputs": [],
   "source": []
  },
  {
   "cell_type": "code",
   "execution_count": 34,
   "metadata": {},
   "outputs": [
    {
     "data": {
      "application/vnd.jupyter.widget-view+json": {
       "model_id": "b4e6a8efc10b423cabf05c95ebfc57a6",
       "version_major": 2,
       "version_minor": 0
      },
      "text/plain": [
       "VBox()"
      ]
     },
     "metadata": {},
     "output_type": "display_data"
    },
    {
     "data": {
      "application/vnd.jupyter.widget-view+json": {
       "model_id": "",
       "version_major": 2,
       "version_minor": 0
      },
      "text/plain": [
       "FloatProgress(value=0.0, bar_style='info', description='Progress:', layout=Layout(height='25px', width='50%'),…"
      ]
     },
     "metadata": {},
     "output_type": "display_data"
    }
   ],
   "source": [
    "# pipeline, just running it on classifier no transformations\n",
    "\n",
    "gbt_model = GBTClassifier()\n",
    "\n",
    "pipeline = Pipeline(stages=[gbt_model])\n",
    "\n",
    "# set up param grid to iterate over\n",
    "paramGrid = ParamGridBuilder() \\\n",
    ".addGrid(gbt_model.maxDepth, [2, 4]) \\\n",
    ".addGrid(gbt_model.maxBins, [15, 40]) \\\n",
    ".build()\n",
    "#.addGrid(gbt_model.stepSize, [0.02, 0.2]) \\\n",
    "# set up crossvalidator to tune parameters and optimize\n",
    "crossval = CrossValidator(estimator=pipeline,\n",
    "                         estimatorParamMaps=paramGrid,\n",
    "                         evaluator=MulticlassClassificationEvaluator(metricName='f1'),\n",
    "                         numFolds=3)"
   ]
  },
  {
   "cell_type": "code",
   "execution_count": null,
   "metadata": {},
   "outputs": [
    {
     "data": {
      "application/vnd.jupyter.widget-view+json": {
       "model_id": "6e932da1b8a142fca863f5edd6409e2b",
       "version_major": 2,
       "version_minor": 0
      },
      "text/plain": [
       "VBox()"
      ]
     },
     "metadata": {},
     "output_type": "display_data"
    },
    {
     "data": {
      "application/vnd.jupyter.widget-view+json": {
       "model_id": "cc477717a5b34d7fafc3856c32fe1bc3",
       "version_major": 2,
       "version_minor": 0
      },
      "text/plain": [
       "FloatProgress(value=0.0, bar_style='info', description='Progress:', layout=Layout(height='25px', width='50%'),…"
      ]
     },
     "metadata": {},
     "output_type": "display_data"
    },
    {
     "name": "stderr",
     "output_type": "stream",
     "text": [
      "Exception in thread cell_monitor-34:\n",
      "Traceback (most recent call last):\n",
      "  File \"/opt/conda/lib/python3.7/threading.py\", line 926, in _bootstrap_inner\n",
      "    self.run()\n",
      "  File \"/opt/conda/lib/python3.7/threading.py\", line 870, in run\n",
      "    self._target(*self._args, **self._kwargs)\n",
      "  File \"/opt/conda/lib/python3.7/site-packages/awseditorssparkmonitoringwidget-1.0-py3.7.egg/awseditorssparkmonitoringwidget/cellmonitor.py\", line 178, in cell_monitor\n",
      "    job_binned_stages[job_id][stage_id] = all_stages[stage_id]\n",
      "KeyError: 781\n",
      "\n"
     ]
    }
   ],
   "source": [
    "cvModel = crossval.fit(train)  # train model\n",
    "results = cvModel.transform(test)  # apply model on test data"
   ]
  },
  {
   "cell_type": "code",
   "execution_count": 32,
   "metadata": {},
   "outputs": [
    {
     "data": {
      "application/vnd.jupyter.widget-view+json": {
       "model_id": "735fce3085394d499e0f6fbfb4e6b257",
       "version_major": 2,
       "version_minor": 0
      },
      "text/plain": [
       "VBox()"
      ]
     },
     "metadata": {},
     "output_type": "display_data"
    },
    {
     "data": {
      "application/vnd.jupyter.widget-view+json": {
       "model_id": "",
       "version_major": 2,
       "version_minor": 0
      },
      "text/plain": [
       "FloatProgress(value=0.0, bar_style='info', description='Progress:', layout=Layout(height='25px', width='50%'),…"
      ]
     },
     "metadata": {},
     "output_type": "display_data"
    },
    {
     "name": "stderr",
     "output_type": "stream",
     "text": [
      "name 'results' is not defined\n",
      "Traceback (most recent call last):\n",
      "NameError: name 'results' is not defined\n",
      "\n"
     ]
    }
   ],
   "source": [
    "evaluate_model(results)"
   ]
  },
  {
   "cell_type": "code",
   "execution_count": 33,
   "metadata": {},
   "outputs": [
    {
     "data": {
      "application/vnd.jupyter.widget-view+json": {
       "model_id": "3769c2da0f734721b270a09bc24a7178",
       "version_major": 2,
       "version_minor": 0
      },
      "text/plain": [
       "VBox()"
      ]
     },
     "metadata": {},
     "output_type": "display_data"
    },
    {
     "data": {
      "application/vnd.jupyter.widget-view+json": {
       "model_id": "",
       "version_major": 2,
       "version_minor": 0
      },
      "text/plain": [
       "FloatProgress(value=0.0, bar_style='info', description='Progress:', layout=Layout(height='25px', width='50%'),…"
      ]
     },
     "metadata": {},
     "output_type": "display_data"
    },
    {
     "name": "stderr",
     "output_type": "stream",
     "text": [
      "name 'cvModel' is not defined\n",
      "Traceback (most recent call last):\n",
      "NameError: name 'cvModel' is not defined\n",
      "\n"
     ]
    }
   ],
   "source": [
    "cvModel.avgMetrics  # look at model scoring metrics"
   ]
  },
  {
   "cell_type": "code",
   "execution_count": null,
   "metadata": {},
   "outputs": [],
   "source": []
  },
  {
   "cell_type": "code",
   "execution_count": null,
   "metadata": {},
   "outputs": [],
   "source": []
  }
 ],
 "metadata": {
  "kernelspec": {
   "display_name": "PySpark",
   "language": "",
   "name": "pysparkkernel"
  },
  "language_info": {
   "codemirror_mode": {
    "name": "python",
    "version": 2
   },
   "mimetype": "text/x-python",
   "name": "pyspark",
   "pygments_lexer": "python2"
  }
 },
 "nbformat": 4,
 "nbformat_minor": 4
}
