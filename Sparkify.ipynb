{
    "cells": [
        {
            "metadata": {},
            "cell_type": "markdown",
            "source": "# Predicting User Churn in Digital Music Service"
        },
        {
            "metadata": {},
            "cell_type": "markdown",
            "source": "Since JSON data can be semi-structured and contain additional metadata, \nit is possible that you might face issues with the DataFrame layout.\nPlease read the documentation of 'SparkSession.read()' to learn more about \nthe possibilities to adjust the data loading.\nPySpark documentation: \nhttp://spark.apache.org/docs/2.0.2/api/python/pyspark.sql.html \npyspark.sql.DataFrameReader.json\n\nNotes \ntime in unix msecs"
        },
        {
            "metadata": {},
            "cell_type": "markdown",
            "source": "### Data Definition\n#### Useful:\n- *location*: location of user, seems to append each new state (location, state)\n- *gender*: user gender (M/F/None)\n\n- *page*: what page the user is on during event (pages)\n- *level*: subscription level check uniqueness (free or paid)\n- *auth*: authenication (logged in/out)\n- *length*: time spent on page, max 50 mins on NextSong (if song paused??)\n\n- *registration*: unknown (registration unixtime)\n- *ts*: timestamp of event in ms (event unixtime)\n\n- *userId*: unique (userId val)\n- *sessionId*: unique sessionId per user?\n- *itemInSession*: lcounter for the number of items in a single session (item listened to in session)\n\n\n#### Not Useful:\n- *firstName*: users first name (not important, remove)\n- *lastName*: users lastname\n- *artist*: song artist\n- *song*: songname\n- *userAgent*: device/browser (not important for us, remove)\n- *method*: API PUT/GET http request (not important for us, remove)\n- *status*: http status"
        },
        {
            "metadata": {},
            "cell_type": "markdown",
            "source": "# Setup"
        },
        {
            "metadata": {},
            "cell_type": "code",
            "source": "# imports\nimport ibmos2spark\nfrom pyspark.sql import SparkSession\nfrom pyspark.sql.functions import from_unixtime\nfrom pyspark.sql.functions import udf\nfrom pyspark.sql.types import IntegerType, StringType\nfrom pyspark.sql.functions import col, when",
            "execution_count": 1,
            "outputs": [
                {
                    "output_type": "stream",
                    "text": "Waiting for a Spark session to start...\nSpark Initialization Done! ApplicationId = app-20200618175721-0000\nKERNEL_ID = bff3e845-648a-42ea-be84-091938adfce3\n",
                    "name": "stdout"
                }
            ]
        },
        {
            "metadata": {},
            "cell_type": "code",
            "source": "# config\n# @hidden_cell\ncredentials = {\n    'endpoint': 'https://s3.eu-geo.objectstorage.service.networklayer.com',\n    'service_id': 'iam-ServiceId-147e1161-7da9-41fe-ac00-c144730def00',\n    'iam_service_endpoint': 'https://iam.cloud.ibm.com/oidc/token',\n    'api_key': 'kAtvjdC8VIYYUmU3gDaOYIK2fCvP3nkjYYlDiNuu4gw6'\n}\n\nconfiguration_name = 'os_76774389dfa04fb5acbb1640b3e11704_configs'\ncos = ibmos2spark.CloudObjectStorage(sc, credentials, configuration_name, 'bluemix_cos')",
            "execution_count": 2,
            "outputs": []
        },
        {
            "metadata": {},
            "cell_type": "code",
            "source": "# Build Spark session\nspark = SparkSession.builder.getOrCreate()",
            "execution_count": 3,
            "outputs": []
        },
        {
            "metadata": {},
            "cell_type": "code",
            "source": "# Read in data from IBM Cloud\ndata_df = spark.read.json(cos.url('medium-sparkify-event-data.json', 'sparkify-donotdelete-pr-fnqu5byx41gcai'))",
            "execution_count": 4,
            "outputs": []
        },
        {
            "metadata": {},
            "cell_type": "markdown",
            "source": "# Data Exploration"
        },
        {
            "metadata": {},
            "cell_type": "code",
            "source": "data_df.printSchema()",
            "execution_count": 5,
            "outputs": [
                {
                    "output_type": "stream",
                    "text": "root\n |-- artist: string (nullable = true)\n |-- auth: string (nullable = true)\n |-- firstName: string (nullable = true)\n |-- gender: string (nullable = true)\n |-- itemInSession: long (nullable = true)\n |-- lastName: string (nullable = true)\n |-- length: double (nullable = true)\n |-- level: string (nullable = true)\n |-- location: string (nullable = true)\n |-- method: string (nullable = true)\n |-- page: string (nullable = true)\n |-- registration: long (nullable = true)\n |-- sessionId: long (nullable = true)\n |-- song: string (nullable = true)\n |-- status: long (nullable = true)\n |-- ts: long (nullable = true)\n |-- userAgent: string (nullable = true)\n |-- userId: string (nullable = true)\n\n",
                    "name": "stdout"
                }
            ]
        },
        {
            "metadata": {},
            "cell_type": "code",
            "source": "data_df.head(1)",
            "execution_count": 6,
            "outputs": [
                {
                    "output_type": "execute_result",
                    "execution_count": 6,
                    "data": {
                        "text/plain": "[Row(artist='Martin Orford', auth='Logged In', firstName='Joseph', gender='M', itemInSession=20, lastName='Morales', length=597.55057, level='free', location='Corpus Christi, TX', method='PUT', page='NextSong', registration=1532063507000, sessionId=292, song='Grand Designs', status=200, ts=1538352011000, userAgent='\"Mozilla/5.0 (Macintosh; Intel Mac OS X 10_9_4) AppleWebKit/537.36 (KHTML, like Gecko) Chrome/36.0.1985.125 Safari/537.36\"', userId='293')]"
                    },
                    "metadata": {}
                }
            ]
        },
        {
            "metadata": {},
            "cell_type": "code",
            "source": "# get dataset metadata\n# create temp sql table\ndata_df.createOrReplaceTempView(\"user_log_table\")",
            "execution_count": 7,
            "outputs": []
        },
        {
            "metadata": {},
            "cell_type": "markdown",
            "source": "### Metadata: No. of Users"
        },
        {
            "metadata": {},
            "cell_type": "code",
            "source": "# how many users in the dataset, unique userId\nspark.sql(\"SELECT COUNT(DISTINCT(userId)) FROM user_log_table LIMIT 10\").show()",
            "execution_count": 8,
            "outputs": [
                {
                    "output_type": "stream",
                    "text": "+----------------------+\n|count(DISTINCT userId)|\n+----------------------+\n|                   449|\n+----------------------+\n\n",
                    "name": "stdout"
                }
            ]
        },
        {
            "metadata": {},
            "cell_type": "markdown",
            "source": "### Feature: Pages"
        },
        {
            "metadata": {
                "scrolled": true
            },
            "cell_type": "code",
            "source": "#\u00a0look at unique pages\nspark.sql(\"SELECT DISTINCT(page) FROM user_log_table LIMIT 100\").collect()",
            "execution_count": 9,
            "outputs": [
                {
                    "output_type": "execute_result",
                    "execution_count": 9,
                    "data": {
                        "text/plain": "[Row(page='Cancel'),\n Row(page='Submit Downgrade'),\n Row(page='Thumbs Down'),\n Row(page='Home'),\n Row(page='Downgrade'),\n Row(page='Roll Advert'),\n Row(page='Logout'),\n Row(page='Save Settings'),\n Row(page='Cancellation Confirmation'),\n Row(page='About'),\n Row(page='Submit Registration'),\n Row(page='Settings'),\n Row(page='Login'),\n Row(page='Register'),\n Row(page='Add to Playlist'),\n Row(page='Add Friend'),\n Row(page='NextSong'),\n Row(page='Thumbs Up'),\n Row(page='Help'),\n Row(page='Upgrade'),\n Row(page='Error'),\n Row(page='Submit Upgrade')]"
                    },
                    "metadata": {}
                }
            ]
        },
        {
            "metadata": {},
            "cell_type": "markdown",
            "source": "### Feature: Pages"
        },
        {
            "metadata": {},
            "cell_type": "code",
            "source": "#\u00a0look at unique pages\nspark.sql(\"SELECT MAX(length)/60,  MIN(length)/60 FROM user_log_table LIMIT 100\").collect()",
            "execution_count": 10,
            "outputs": [
                {
                    "output_type": "execute_result",
                    "execution_count": 10,
                    "data": {
                        "text/plain": "[Row((max(length) / CAST(60 AS DOUBLE))=50.4110945, (min(length) / CAST(60 AS DOUBLE))=0.013053666666666667)]"
                    },
                    "metadata": {}
                }
            ]
        },
        {
            "metadata": {},
            "cell_type": "code",
            "source": "#\u00a0look at unique pages\nspark.sql(\"SELECT page, length/60 FROM user_log_table ORDER BY length DESC  LIMIT 20\").collect()",
            "execution_count": 11,
            "outputs": [
                {
                    "output_type": "execute_result",
                    "execution_count": 11,
                    "data": {
                        "text/plain": "[Row(page='NextSong', (length / CAST(60 AS DOUBLE))=50.4110945),\n Row(page='NextSong', (length / CAST(60 AS DOUBLE))=50.4110945),\n Row(page='NextSong', (length / CAST(60 AS DOUBLE))=50.4110945),\n Row(page='NextSong', (length / CAST(60 AS DOUBLE))=50.4110945),\n Row(page='NextSong', (length / CAST(60 AS DOUBLE))=50.4110945),\n Row(page='NextSong', (length / CAST(60 AS DOUBLE))=50.4110945),\n Row(page='NextSong', (length / CAST(60 AS DOUBLE))=50.4110945),\n Row(page='NextSong', (length / CAST(60 AS DOUBLE))=50.4110945),\n Row(page='NextSong', (length / CAST(60 AS DOUBLE))=50.4110945),\n Row(page='NextSong', (length / CAST(60 AS DOUBLE))=50.4110945),\n Row(page='NextSong', (length / CAST(60 AS DOUBLE))=49.34312166666667),\n Row(page='NextSong', (length / CAST(60 AS DOUBLE))=45.7181965),\n Row(page='NextSong', (length / CAST(60 AS DOUBLE))=45.537951666666665),\n Row(page='NextSong', (length / CAST(60 AS DOUBLE))=45.153951666666664),\n Row(page='NextSong', (length / CAST(60 AS DOUBLE))=43.774251),\n Row(page='NextSong', (length / CAST(60 AS DOUBLE))=43.24788366666667),\n Row(page='NextSong', (length / CAST(60 AS DOUBLE))=43.24788366666667),\n Row(page='NextSong', (length / CAST(60 AS DOUBLE))=43.24788366666667),\n Row(page='NextSong', (length / CAST(60 AS DOUBLE))=43.24788366666667),\n Row(page='NextSong', (length / CAST(60 AS DOUBLE))=43.24788366666667)]"
                    },
                    "metadata": {}
                }
            ]
        },
        {
            "metadata": {},
            "cell_type": "markdown",
            "source": "### Feature: level"
        },
        {
            "metadata": {},
            "cell_type": "code",
            "source": "# unique levels\nspark.sql(\"SELECT DISTINCT(level) FROM user_log_table LIMIT 100\").collect()\n",
            "execution_count": 12,
            "outputs": [
                {
                    "output_type": "execute_result",
                    "execution_count": 12,
                    "data": {
                        "text/plain": "[Row(level='free'), Row(level='paid')]"
                    },
                    "metadata": {}
                }
            ]
        },
        {
            "metadata": {},
            "cell_type": "markdown",
            "source": "### Feature: gender"
        },
        {
            "metadata": {},
            "cell_type": "code",
            "source": "# unique levels\nspark.sql(\"SELECT DISTINCT(gender) FROM user_log_table LIMIT 100\").collect()",
            "execution_count": 13,
            "outputs": [
                {
                    "output_type": "execute_result",
                    "execution_count": 13,
                    "data": {
                        "text/plain": "[Row(gender='F'), Row(gender=None), Row(gender='M')]"
                    },
                    "metadata": {}
                }
            ]
        },
        {
            "metadata": {},
            "cell_type": "markdown",
            "source": "### Feature: authentication"
        },
        {
            "metadata": {},
            "cell_type": "code",
            "source": "spark.sql(\"SELECT DISTINCT(auth) FROM user_log_table LIMIT 100\").collect()",
            "execution_count": 14,
            "outputs": [
                {
                    "output_type": "execute_result",
                    "execution_count": 14,
                    "data": {
                        "text/plain": "[Row(auth='Logged Out'),\n Row(auth='Cancelled'),\n Row(auth='Guest'),\n Row(auth='Logged In')]"
                    },
                    "metadata": {}
                }
            ]
        },
        {
            "metadata": {},
            "cell_type": "markdown",
            "source": "### feature: location"
        },
        {
            "metadata": {},
            "cell_type": "code",
            "source": "spark.sql(\"SELECT DISTINCT(location) FROM user_log_table LIMIT 1000\").collect()",
            "execution_count": 15,
            "outputs": [
                {
                    "output_type": "execute_result",
                    "execution_count": 15,
                    "data": {
                        "text/plain": "[Row(location='Atlantic City-Hammonton, NJ'),\n Row(location='Gainesville, FL'),\n Row(location='Richmond, VA'),\n Row(location='Oskaloosa, IA'),\n Row(location='Tucson, AZ'),\n Row(location='Deltona-Daytona Beach-Ormond Beach, FL'),\n Row(location='San Diego-Carlsbad, CA'),\n Row(location='Cleveland-Elyria, OH'),\n Row(location='Medford, OR'),\n Row(location='Kingsport-Bristol-Bristol, TN-VA'),\n Row(location='New Haven-Milford, CT'),\n Row(location='Birmingham-Hoover, AL'),\n Row(location='Corpus Christi, TX'),\n Row(location='Mobile, AL'),\n Row(location='Dubuque, IA'),\n Row(location='Las Vegas-Henderson-Paradise, NV'),\n Row(location='Killeen-Temple, TX'),\n Row(location='Ottawa-Peru, IL'),\n Row(location='Boise City, ID'),\n Row(location='Bremerton-Silverdale, WA'),\n Row(location='Urban Honolulu, HI'),\n Row(location='Cedar City, UT'),\n Row(location='Indianapolis-Carmel-Anderson, IN'),\n Row(location='Durham-Chapel Hill, NC'),\n Row(location='Seattle-Tacoma-Bellevue, WA'),\n Row(location='Fort Smith, AR-OK'),\n Row(location='Champaign-Urbana, IL'),\n Row(location='Columbus, OH'),\n Row(location='Albany, OR'),\n Row(location='Winston-Salem, NC'),\n Row(location='Los Angeles-Long Beach-Anaheim, CA'),\n Row(location='Bakersfield, CA'),\n Row(location='Minneapolis-St. Paul-Bloomington, MN-WI'),\n Row(location='San Francisco-Oakland-Hayward, CA'),\n Row(location='Tyler, TX'),\n Row(location='Lafayette-West Lafayette, IN'),\n Row(location='Phoenix-Mesa-Scottsdale, AZ'),\n Row(location='Allentown-Bethlehem-Easton, PA-NJ'),\n Row(location='Miami-Fort Lauderdale-West Palm Beach, FL'),\n Row(location='Topeka, KS'),\n Row(location='Selma, AL'),\n Row(location='Lebanon, PA'),\n Row(location='Dayton, OH'),\n Row(location='San Jose-Sunnyvale-Santa Clara, CA'),\n Row(location='Bridgeport-Stamford-Norwalk, CT'),\n Row(location='Providence-Warwick, RI-MA'),\n Row(location='Sioux Falls, SD'),\n Row(location='Price, UT'),\n Row(location='Greenville-Anderson-Mauldin, SC'),\n Row(location='Columbus, GA-AL'),\n Row(location='Akron, OH'),\n Row(location='Racine, WI'),\n Row(location='Logan, UT-ID'),\n Row(location='Myrtle Beach-Conway-North Myrtle Beach, SC-NC'),\n Row(location=None),\n Row(location='Provo-Orem, UT'),\n Row(location='Buffalo-Cheektowaga-Niagara Falls, NY'),\n Row(location='Cookeville, TN'),\n Row(location='Big Spring, TX'),\n Row(location='New Philadelphia-Dover, OH'),\n Row(location='York-Hanover, PA'),\n Row(location='Beaumont-Port Arthur, TX'),\n Row(location='Anchorage, AK'),\n Row(location='Tulsa, OK'),\n Row(location='New York-Newark-Jersey City, NY-NJ-PA'),\n Row(location='Danville, IL'),\n Row(location='Charleston, WV'),\n Row(location='St. Louis, MO-IL'),\n Row(location='Janesville-Beloit, WI'),\n Row(location='Orlando-Kissimmee-Sanford, FL'),\n Row(location='Jackson, MS'),\n Row(location='Rockingham, NC'),\n Row(location='Gallup, NM'),\n Row(location='Alexandria, MN'),\n Row(location='McAllen-Edinburg-Mission, TX'),\n Row(location='Oxnard-Thousand Oaks-Ventura, CA'),\n Row(location='Memphis, TN-MS-AR'),\n Row(location='Vermillion, SD'),\n Row(location='Milledgeville, GA'),\n Row(location='Auburn, IN'),\n Row(location='San Antonio-New Braunfels, TX'),\n Row(location='New Orleans-Metairie, LA'),\n Row(location='Troy, AL'),\n Row(location='Duluth, MN-WI'),\n Row(location='Albemarle, NC'),\n Row(location='Ozark, AL'),\n Row(location='Danville, VA'),\n Row(location='Washington-Arlington-Alexandria, DC-VA-MD-WV'),\n Row(location='Manchester-Nashua, NH'),\n Row(location='Greensboro-High Point, NC'),\n Row(location='Rio Grande City, TX'),\n Row(location='Sterling, IL'),\n Row(location='Napa, CA'),\n Row(location='Monroe, LA'),\n Row(location='Knoxville, TN'),\n Row(location='Louisville/Jefferson County, KY-IN'),\n Row(location='Norwich-New London, CT'),\n Row(location='Nashville-Davidson--Murfreesboro--Franklin, TN'),\n Row(location='El Paso, TX'),\n Row(location='Syracuse, NY'),\n Row(location='Marion, IN'),\n Row(location='Little Rock-North Little Rock-Conway, AR'),\n Row(location='Austin-Round Rock, TX'),\n Row(location='Toledo, OH'),\n Row(location='El Campo, TX'),\n Row(location='Kansas City, MO-KS'),\n Row(location='Cincinnati, OH-KY-IN'),\n Row(location='Valdosta, GA'),\n Row(location='Cullman, AL'),\n Row(location='Bozeman, MT'),\n Row(location='Truckee-Grass Valley, CA'),\n Row(location='Grand Rapids-Wyoming, MI'),\n Row(location='Boston-Cambridge-Newton, MA-NH'),\n Row(location='Atlanta-Sandy Springs-Roswell, GA'),\n Row(location='Philadelphia-Camden-Wilmington, PA-NJ-DE-MD'),\n Row(location='Klamath Falls, OR'),\n Row(location='Pittsburgh, PA'),\n Row(location='Las Vegas, NM'),\n Row(location='Bowling Green, KY'),\n Row(location='Rochester, MN'),\n Row(location='Chicago-Naperville-Elgin, IL-IN-WI'),\n Row(location='Dallas-Fort Worth-Arlington, TX'),\n Row(location='Mansfield, OH'),\n Row(location='North Wilkesboro, NC'),\n Row(location='Oklahoma City, OK'),\n Row(location='Albany-Schenectady-Troy, NY'),\n Row(location='Quincy, IL-MO'),\n Row(location='Houghton, MI'),\n Row(location='Tullahoma-Manchester, TN'),\n Row(location='Pontiac, IL'),\n Row(location='Worcester, MA-CT'),\n Row(location='Jacksonville, FL'),\n Row(location='Fairbanks, AK'),\n Row(location='Fresno, CA'),\n Row(location='Houston-The Woodlands-Sugar Land, TX'),\n Row(location='Lafayette, LA'),\n Row(location='Lakeland-Winter Haven, FL'),\n Row(location='Decatur, AL'),\n Row(location='Brunswick, GA'),\n Row(location='Montgomery, AL'),\n Row(location='Hartford-West Hartford-East Hartford, CT'),\n Row(location='Port St. Lucie, FL'),\n Row(location='Omaha-Council Bluffs, NE-IA'),\n Row(location='Rutland, VT'),\n Row(location='Charlotte-Concord-Gastonia, NC-SC'),\n Row(location='Madison, WI'),\n Row(location='Baltimore-Columbia-Towson, MD'),\n Row(location='Raleigh, NC'),\n Row(location='Sacramento--Roseville--Arden-Arcade, CA'),\n Row(location='Laurel, MS'),\n Row(location='Lexington-Fayette, KY'),\n Row(location='Tampa-St. Petersburg-Clearwater, FL'),\n Row(location='Modesto, CA'),\n Row(location='London, KY'),\n Row(location='Tallahassee, FL'),\n Row(location='Roanoke, VA'),\n Row(location='Virginia Beach-Norfolk-Newport News, VA-NC'),\n Row(location='Riverside-San Bernardino-Ontario, CA'),\n Row(location='Appleton, WI'),\n Row(location='Concord, NH'),\n Row(location='Rochester, NY'),\n Row(location='Midland, MI'),\n Row(location='Fargo, ND-MN'),\n Row(location='Stockton-Lodi, CA'),\n Row(location='Boulder, CO'),\n Row(location='Milwaukee-Waukesha-West Allis, WI'),\n Row(location='Detroit-Warren-Dearborn, MI'),\n Row(location='Billings, MT'),\n Row(location='Alexandria, LA'),\n Row(location='Salinas, CA'),\n Row(location='Ionia, MI'),\n Row(location='Vineland-Bridgeton, NJ'),\n Row(location='Morgantown, WV'),\n Row(location='Show Low, AZ'),\n Row(location='Jacksonville, NC'),\n Row(location='Athens, TX'),\n Row(location='Espa\u00f1ola, NM'),\n Row(location='Salt Lake City, UT'),\n Row(location='Augusta-Waterville, ME'),\n Row(location='Wichita, KS'),\n Row(location='Fort Madison-Keokuk, IA-IL-MO'),\n Row(location='Spokane-Spokane Valley, WA'),\n Row(location='Kankakee, IL'),\n Row(location='Portland-Vancouver-Hillsboro, OR-WA'),\n Row(location='Newport, TN'),\n Row(location='Denver-Aurora-Lakewood, CO'),\n Row(location='Flint, MI'),\n Row(location='Santa Maria-Santa Barbara, CA'),\n Row(location='Muncie, IN'),\n Row(location='Fort Wayne, IN'),\n Row(location='Colorado Springs, CO'),\n Row(location='Wilson, NC'),\n Row(location='Hagerstown-Martinsburg, MD-WV')]"
                    },
                    "metadata": {}
                }
            ]
        },
        {
            "metadata": {},
            "cell_type": "markdown",
            "source": "### Feature: useragent"
        },
        {
            "metadata": {},
            "cell_type": "code",
            "source": "spark.sql(\"SELECT DISTINCT(userAgent) FROM user_log_table LIMIT 100\").collect()",
            "execution_count": 16,
            "outputs": [
                {
                    "output_type": "execute_result",
                    "execution_count": 16,
                    "data": {
                        "text/plain": "[Row(userAgent='\"Mozilla/5.0 (Macintosh; Intel Mac OS X 10_8_5) AppleWebKit/537.36 (KHTML, like Gecko) Chrome/36.0.1985.143 Safari/537.36\"'),\n Row(userAgent='\"Mozilla/5.0 (Windows NT 5.1) AppleWebKit/537.36 (KHTML, like Gecko) Chrome/36.0.1985.143 Safari/537.36\"'),\n Row(userAgent='Mozilla/5.0 (X11; Ubuntu; Linux i686; rv:31.0) Gecko/20100101 Firefox/31.0'),\n Row(userAgent='\"Mozilla/5.0 (Macintosh; Intel Mac OS X 10_9_4) AppleWebKit/537.36 (KHTML, like Gecko) Chrome/36.0.1985.125 Safari/537.36\"'),\n Row(userAgent='\"Mozilla/5.0 (Macintosh; Intel Mac OS X 10_9_4) AppleWebKit/537.36 (KHTML, like Gecko) Chrome/35.0.1916.153 Safari/537.36\"'),\n Row(userAgent='Mozilla/5.0 (Macintosh; Intel Mac OS X 10.7; rv:31.0) Gecko/20100101 Firefox/31.0'),\n Row(userAgent='Mozilla/5.0 (Windows NT 6.1; WOW64; rv:30.0) Gecko/20100101 Firefox/30.0'),\n Row(userAgent='Mozilla/5.0 (Windows NT 6.3; WOW64; rv:31.0) Gecko/20100101 Firefox/31.0'),\n Row(userAgent='Mozilla/5.0 (compatible; MSIE 9.0; Windows NT 6.1; WOW64; Trident/5.0)'),\n Row(userAgent='\"Mozilla/5.0 (Windows NT 6.3; WOW64) AppleWebKit/537.36 (KHTML, like Gecko) Chrome/36.0.1985.143 Safari/537.36\"'),\n Row(userAgent='Mozilla/5.0 (Macintosh; Intel Mac OS X 10.9; rv:31.0) Gecko/20100101 Firefox/31.0'),\n Row(userAgent='\"Mozilla/5.0 (Macintosh; Intel Mac OS X 10_8_5) AppleWebKit/537.77.4 (KHTML, like Gecko) Version/6.1.5 Safari/537.77.4\"'),\n Row(userAgent='Mozilla/5.0 (Windows NT 5.1; rv:31.0) Gecko/20100101 Firefox/31.0'),\n Row(userAgent='\"Mozilla/5.0 (Windows NT 5.1) AppleWebKit/537.36 (KHTML, like Gecko) Chrome/36.0.1985.125 Safari/537.36\"'),\n Row(userAgent=None),\n Row(userAgent='\"Mozilla/5.0 (iPhone; CPU iPhone OS 7_1_1 like Mac OS X) AppleWebKit/537.51.2 (KHTML, like Gecko) Version/7.0 Mobile/11D201 Safari/9537.53\"'),\n Row(userAgent='\"Mozilla/5.0 (Windows NT 6.1; WOW64) AppleWebKit/537.36 (KHTML, like Gecko) Chrome/36.0.1985.125 Safari/537.36\"'),\n Row(userAgent='Mozilla/5.0 (Windows NT 6.1; WOW64; rv:31.0) Gecko/20100101 Firefox/31.0'),\n Row(userAgent='\"Mozilla/5.0 (Macintosh; Intel Mac OS X 10_9_3) AppleWebKit/537.36 (KHTML, like Gecko) Chrome/36.0.1985.143 Safari/537.36\"'),\n Row(userAgent='Mozilla/5.0 (Windows NT 6.3; WOW64; Trident/7.0; rv:11.0) like Gecko'),\n Row(userAgent='Mozilla/5.0 (Macintosh; Intel Mac OS X 10.9; rv:30.0) Gecko/20100101 Firefox/30.0'),\n Row(userAgent='Mozilla/5.0 (compatible; MSIE 9.0; Windows NT 6.1; Trident/5.0)'),\n Row(userAgent='Mozilla/5.0 (compatible; MSIE 10.0; Windows NT 6.1; WOW64; Trident/6.0)'),\n Row(userAgent='\"Mozilla/5.0 (Windows NT 6.3; WOW64) AppleWebKit/537.36 (KHTML, like Gecko) Chrome/37.0.2062.94 Safari/537.36\"'),\n Row(userAgent='\"Mozilla/5.0 (Macintosh; Intel Mac OS X 10_8_5) AppleWebKit/537.36 (KHTML, like Gecko) Chrome/37.0.2062.94 Safari/537.36\"'),\n Row(userAgent='\"Mozilla/5.0 (Macintosh; Intel Mac OS X 10_9_2) AppleWebKit/537.75.14 (KHTML, like Gecko) Version/7.0.3 Safari/537.75.14\"'),\n Row(userAgent='\"Mozilla/5.0 (Windows NT 6.1; WOW64) AppleWebKit/537.36 (KHTML, like Gecko) Chrome/37.0.2062.103 Safari/537.36\"'),\n Row(userAgent='\"Mozilla/5.0 (Windows NT 6.2; WOW64) AppleWebKit/537.36 (KHTML, like Gecko) Chrome/36.0.1985.125 Safari/537.36\"'),\n Row(userAgent='\"Mozilla/5.0 (Macintosh; Intel Mac OS X 10_10_0) AppleWebKit/537.36 (KHTML, like Gecko) Chrome/37.0.2062.94 Safari/537.36\"'),\n Row(userAgent='\"Mozilla/5.0 (iPad; CPU OS 7_1_2 like Mac OS X) AppleWebKit/537.51.2 (KHTML, like Gecko) Version/7.0 Mobile/11D257 Safari/9537.53\"'),\n Row(userAgent='\"Mozilla/5.0 (Macintosh; Intel Mac OS X 10_6_8) AppleWebKit/537.36 (KHTML, like Gecko) Chrome/36.0.1985.143 Safari/537.36\"'),\n Row(userAgent='\"Mozilla/5.0 (Macintosh; Intel Mac OS X 10_9_4) AppleWebKit/537.36 (KHTML, like Gecko) Chrome/36.0.1985.143 Safari/537.36\"'),\n Row(userAgent='Mozilla/5.0 (Windows NT 6.0; rv:31.0) Gecko/20100101 Firefox/31.0'),\n Row(userAgent='\"Mozilla/5.0 (Macintosh; Intel Mac OS X 10_7_5) AppleWebKit/537.36 (KHTML, like Gecko) Chrome/36.0.1985.125 Safari/537.36\"'),\n Row(userAgent='\"Mozilla/5.0 (Windows NT 6.1) AppleWebKit/537.36 (KHTML, like Gecko) Chrome/36.0.1985.125 Safari/537.36\"'),\n Row(userAgent='\"Mozilla/5.0 (Windows NT 6.2; WOW64) AppleWebKit/537.36 (KHTML, like Gecko) Chrome/36.0.1985.143 Safari/537.36\"'),\n Row(userAgent='Mozilla/5.0 (Macintosh; Intel Mac OS X 10.6; rv:31.0) Gecko/20100101 Firefox/31.0'),\n Row(userAgent='\"Mozilla/5.0 (Macintosh; Intel Mac OS X 10_6_8) AppleWebKit/534.59.10 (KHTML, like Gecko) Version/5.1.9 Safari/534.59.10\"'),\n Row(userAgent='\"Mozilla/5.0 (Macintosh; Intel Mac OS X 10_9_3) AppleWebKit/537.76.4 (KHTML, like Gecko) Version/7.0.4 Safari/537.76.4\"'),\n Row(userAgent='Mozilla/5.0 (X11; Linux x86_64; rv:31.0) Gecko/20100101 Firefox/31.0'),\n Row(userAgent='\"Mozilla/5.0 (Macintosh; Intel Mac OS X 10_9_2) AppleWebKit/537.36 (KHTML, like Gecko) Chrome/37.0.2062.94 Safari/537.36\"'),\n Row(userAgent='\"Mozilla/5.0 (Macintosh; Intel Mac OS X 10_9_4) AppleWebKit/537.78.2 (KHTML, like Gecko) Version/7.0.6 Safari/537.78.2\"'),\n Row(userAgent='\"Mozilla/5.0 (Macintosh; Intel Mac OS X 10_7_5) AppleWebKit/537.77.4 (KHTML, like Gecko) Version/6.1.5 Safari/537.77.4\"'),\n Row(userAgent='\"Mozilla/5.0 (Windows NT 6.1; WOW64) AppleWebKit/537.36 (KHTML, like Gecko) Chrome/35.0.1916.153 Safari/537.36\"'),\n Row(userAgent='\"Mozilla/5.0 (Macintosh; Intel Mac OS X 10_10) AppleWebKit/600.1.8 (KHTML, like Gecko) Version/8.0 Safari/600.1.8\"'),\n Row(userAgent='\"Mozilla/5.0 (X11; Linux x86_64) AppleWebKit/537.36 (KHTML, like Gecko) Chrome/36.0.1985.143 Safari/537.36\"'),\n Row(userAgent='\"Mozilla/5.0 (Windows NT 6.1) AppleWebKit/537.36 (KHTML, like Gecko) Chrome/36.0.1985.143 Safari/537.36\"'),\n Row(userAgent='\"Mozilla/5.0 (X11; Linux x86_64) AppleWebKit/537.36 (KHTML, like Gecko) Ubuntu Chromium/34.0.1847.116 Chrome/34.0.1847.116 Safari/537.36\"'),\n Row(userAgent='Mozilla/5.0 (X11; Ubuntu; Linux x86_64; rv:31.0) Gecko/20100101 Firefox/31.0'),\n Row(userAgent='\"Mozilla/5.0 (iPad; CPU OS 7_1_1 like Mac OS X) AppleWebKit/537.51.2 (KHTML, like Gecko) Version/7.0 Mobile/11D201 Safari/9537.53\"'),\n Row(userAgent='\"Mozilla/5.0 (Macintosh; Intel Mac OS X 10_10) AppleWebKit/600.1.3 (KHTML, like Gecko) Version/8.0 Safari/600.1.3\"'),\n Row(userAgent='\"Mozilla/5.0 (Macintosh; Intel Mac OS X 10_9_4) AppleWebKit/537.77.4 (KHTML, like Gecko) Version/7.0.5 Safari/537.77.4\"'),\n Row(userAgent='Mozilla/5.0 (Windows NT 6.2; WOW64; rv:31.0) Gecko/20100101 Firefox/31.0'),\n Row(userAgent='\"Mozilla/5.0 (Windows NT 6.3; WOW64) AppleWebKit/537.36 (KHTML, like Gecko) Chrome/36.0.1985.125 Safari/537.36\"'),\n Row(userAgent='Mozilla/5.0 (Windows NT 6.1; WOW64; rv:24.0) Gecko/20100101 Firefox/24.0'),\n Row(userAgent='Mozilla/5.0 (Windows NT 6.1; WOW64; rv:32.0) Gecko/20100101 Firefox/32.0'),\n Row(userAgent='\"Mozilla/5.0 (Macintosh; Intel Mac OS X 10_9_2) AppleWebKit/537.74.9 (KHTML, like Gecko) Version/7.0.2 Safari/537.74.9\"'),\n Row(userAgent='\"Mozilla/5.0 (iPhone; CPU iPhone OS 7_1_2 like Mac OS X) AppleWebKit/537.51.2 (KHTML, like Gecko) Version/7.0 Mobile/11D257 Safari/9537.53\"'),\n Row(userAgent='\"Mozilla/5.0 (X11; Linux x86_64) AppleWebKit/537.36 (KHTML, like Gecko) Ubuntu Chromium/36.0.1985.125 Chrome/36.0.1985.125 Safari/537.36\"'),\n Row(userAgent='\"Mozilla/5.0 (X11; Linux x86_64) AppleWebKit/537.36 (KHTML, like Gecko) Chrome/36.0.1985.125 Safari/537.36\"'),\n Row(userAgent='\"Mozilla/5.0 (Macintosh; Intel Mac OS X 10_9_2) AppleWebKit/537.36 (KHTML, like Gecko) Chrome/36.0.1985.125 Safari/537.36\"'),\n Row(userAgent='\"Mozilla/5.0 (Windows NT 6.1; WOW64) AppleWebKit/537.36 (KHTML, like Gecko) Chrome/37.0.2062.94 Safari/537.36\"'),\n Row(userAgent='\"Mozilla/5.0 (X11; Linux x86_64) AppleWebKit/537.36 (KHTML, like Gecko) Chrome/35.0.1916.153 Safari/537.36\"'),\n Row(userAgent='\"Mozilla/5.0 (Macintosh; Intel Mac OS X 10_9_2) AppleWebKit/537.36 (KHTML, like Gecko) Chrome/36.0.1985.143 Safari/537.36\"'),\n Row(userAgent='\"Mozilla/5.0 (Macintosh; Intel Mac OS X 10_9_4) AppleWebKit/537.36 (KHTML, like Gecko) Chrome/37.0.2062.94 Safari/537.36\"'),\n Row(userAgent='\"Mozilla/5.0 (iPhone; CPU iPhone OS 7_1 like Mac OS X) AppleWebKit/537.51.2 (KHTML, like Gecko) Version/7.0 Mobile/11D167 Safari/9537.53\"'),\n Row(userAgent='\"Mozilla/5.0 (Windows NT 6.1; WOW64) AppleWebKit/537.36 (KHTML, like Gecko) Chrome/36.0.1985.143 Safari/537.36\"'),\n Row(userAgent='Mozilla/5.0 (Macintosh; Intel Mac OS X 10.8; rv:31.0) Gecko/20100101 Firefox/31.0'),\n Row(userAgent='Mozilla/5.0 (compatible; MSIE 10.0; Windows NT 6.2; WOW64; Trident/6.0)'),\n Row(userAgent='Mozilla/5.0 (Windows NT 6.1; WOW64; Trident/7.0; rv:11.0) like Gecko'),\n Row(userAgent='Mozilla/5.0 (X11; Ubuntu; Linux x86_64; rv:30.0) Gecko/20100101 Firefox/30.0'),\n Row(userAgent='Mozilla/5.0 (Windows NT 6.1; rv:31.0) Gecko/20100101 Firefox/31.0')]"
                    },
                    "metadata": {}
                }
            ]
        },
        {
            "metadata": {},
            "cell_type": "markdown",
            "source": "# Data Cleaning"
        },
        {
            "metadata": {},
            "cell_type": "code",
            "source": "# lets remove some of the columns we don't think will be useful from data exploration\ncols_to_drop = ['firstName', 'lastName','artist', 'song', 'method', 'status', 'userAgent']\nuser_log_df = data_df.drop(*cols_to_drop)",
            "execution_count": 49,
            "outputs": []
        },
        {
            "metadata": {},
            "cell_type": "code",
            "source": "# event unix to datetime\nuser_log_df = user_log_df.withColumn(\"timestamp_datetime\",\n                                     from_unixtime(data_df.ts/1000,\n                                                   format='yyyy-MM-dd HH:mm:ss'))",
            "execution_count": 50,
            "outputs": []
        },
        {
            "metadata": {},
            "cell_type": "code",
            "source": "# registration unix to datetime\nuser_log_df = user_log_df.withColumn(\"registration_datetime\",\n                                     from_unixtime(data_df.registration/1000,\n                                                   format='yyyy-MM-dd HH:mm:ss'))",
            "execution_count": 51,
            "outputs": []
        },
        {
            "metadata": {},
            "cell_type": "code",
            "source": "# take a look\nuser_log_df.head()",
            "execution_count": 52,
            "outputs": [
                {
                    "output_type": "execute_result",
                    "execution_count": 52,
                    "data": {
                        "text/plain": "Row(auth='Logged In', gender='M', itemInSession=20, length=597.55057, level='free', location='Corpus Christi, TX', page='NextSong', registration=1532063507000, sessionId=292, ts=1538352011000, userId='293', timestamp_datetime='2018-10-01 00:00:11', registration_datetime='2018-07-20 05:11:47')"
                    },
                    "metadata": {}
                }
            ]
        },
        {
            "metadata": {},
            "cell_type": "markdown",
            "source": "# Feature Engineering"
        },
        {
            "metadata": {},
            "cell_type": "code",
            "source": "# time since registration\nuser_log_df = user_log_df.withColumn('seconds_since_registration',\n                                     (user_log_df['ts'] - user_log_df['registration']) / 1000 )",
            "execution_count": 21,
            "outputs": []
        },
        {
            "metadata": {},
            "cell_type": "code",
            "source": " | user_log_df[\"location\"].isNull() | isnan(user_log_df[\"location\"])",
            "execution_count": null,
            "outputs": []
        },
        {
            "metadata": {},
            "cell_type": "code",
            "source": "# missing values cause issue with split\nfrom pyspark.sql.functions import isnan\nuser_log_df.filter((user_log_df[\"location\"].isNull())).count()",
            "execution_count": 61,
            "outputs": [
                {
                    "output_type": "execute_result",
                    "execution_count": 61,
                    "data": {
                        "text/plain": "15700"
                    },
                    "metadata": {}
                }
            ]
        },
        {
            "metadata": {},
            "cell_type": "code",
            "source": "# replace missing values to allow split\nuser_log_df = user_log_df.fillna({'location':''})",
            "execution_count": 68,
            "outputs": []
        },
        {
            "metadata": {},
            "cell_type": "code",
            "source": "# create state column\nstate_abbr = udf(lambda x: x.split(', ')[-1], StringType()) # x.split(', ')[-1]\nuser_log_df = user_log_df.withColumn(\"usstate_abbr\",\n                                     when(user_log_df.location.isNotNull(),\n                                          state_abbr(user_log_df.location)).otherwise(''))",
            "execution_count": 69,
            "outputs": []
        },
        {
            "metadata": {},
            "cell_type": "code",
            "source": "# Sates seem to be appended, so take latest\nstate_abbr = udf(lambda x: x.split('-')[-1], StringType()) # x.split(', ')[-1]\nuser_log_df = user_log_df.withColumn(\"usstate_abbr\",\n                                     when(user_log_df.location.isNotNull(),\n                                          state_abbr(user_log_df.location)).otherwise(''))",
            "execution_count": 71,
            "outputs": []
        },
        {
            "metadata": {},
            "cell_type": "code",
            "source": "# take a look\nuser_log_df.head(1)",
            "execution_count": 72,
            "outputs": [
                {
                    "output_type": "execute_result",
                    "execution_count": 72,
                    "data": {
                        "text/plain": "[Row(auth='Logged In', gender='M', itemInSession=20, length=597.55057, level='free', location='Corpus Christi, TX', page='NextSong', registration=1532063507000, sessionId=292, ts=1538352011000, userId='293', timestamp_datetime='2018-10-01 00:00:11', registration_datetime='2018-07-20 05:11:47', usstate_abbr='Corpus Christi, TX')]"
                    },
                    "metadata": {}
                }
            ]
        },
        {
            "metadata": {},
            "cell_type": "code",
            "source": "# calcualte average listening time",
            "execution_count": null,
            "outputs": []
        }
    ],
    "metadata": {
        "kernelspec": {
            "name": "python36",
            "display_name": "Python 3.6 with Spark",
            "language": "python3"
        },
        "language_info": {
            "mimetype": "text/x-python",
            "nbconvert_exporter": "python",
            "name": "python",
            "pygments_lexer": "ipython3",
            "version": "3.6.8",
            "file_extension": ".py",
            "codemirror_mode": {
                "version": 3,
                "name": "ipython"
            }
        }
    },
    "nbformat": 4,
    "nbformat_minor": 1
}